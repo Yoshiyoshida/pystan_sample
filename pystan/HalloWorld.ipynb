{
 "cells": [
  {
   "cell_type": "markdown",
   "metadata": {
    "ExecuteTime": {
     "end_time": "2019-01-07T06:20:24.440648Z",
     "start_time": "2019-01-07T06:20:21.148077Z"
    }
   },
   "source": [
    "# ライブラリインストール"
   ]
  },
  {
   "cell_type": "code",
   "execution_count": 1,
   "metadata": {
    "ExecuteTime": {
     "end_time": "2019-01-10T06:43:12.225903Z",
     "start_time": "2019-01-10T06:43:10.234015Z"
    }
   },
   "outputs": [],
   "source": [
    "import numpy as np\n",
    "import pandas as pd\n",
    "import matplotlib.pyplot as plt\n",
    "import scipy  \n",
    "%matplotlib inline\n",
    "%config InlineBackend.figure_format = 'retina'\n",
    "plt.rcParams['axes.labelsize'] = 14\n",
    "plt.rcParams['xtick.labelsize'] = 12\n",
    "plt.rcParams['ytick.labelsize'] = 12\n",
    "\n",
    "plt.style.use(\"ggplot\")\n",
    "import seaborn as sns\n",
    "\n",
    "import warnings\n",
    "warnings.filterwarnings('ignore') # warningが出ないように設定\n",
    "pd.set_option(\"display.max_rows\", None) # pandasの表示上限をなくす\n",
    "pd.set_option(\"display.max_columns\", None) # pandasの表示上限をなくす"
   ]
  },
  {
   "cell_type": "markdown",
   "metadata": {},
   "source": [
    "# 概要\n",
    "- 事後分布のサンプリング=MCMCで事後分布をサンプリングする\n",
    "    - マルコフ連鎖を利用する\n",
    "$$\n",
    "マルコフ連鎖:新しいθ_tが直前のθ_{t-1}のみから決定する確率過程\n",
    "$$\n",
    "\n",
    "- 詳細釣り合い:詳細釣り合いを満たすと、確率分布が定常になる"
   ]
  },
  {
   "cell_type": "markdown",
   "metadata": {},
   "source": [
    "# stanとは\n",
    "- HMCを用いたMCMC用のプログラミング言語\n",
    "## 特徴\n",
    "- 統計モデルの記述が簡単\n",
    "- HMCなので高速\n",
    "- 様々な確率分布を用意している\n",
    "\n",
    "## 計算の流れ\n",
    "### 通常のベイズ統計\n",
    "0. 下調べ：問題の背景を調べる\n",
    "1. 下調べをもとに,モデルの作成\n",
    "2. 得られたデータから事後分布の計算（MCMCで計算）\n",
    "\n",
    "### pystanがやる内容\n",
    "1. 下調べをもとに,モデルの作成(pystan上にモデリング)\n",
    "    - データの性質を可視化して、尤度関数、事前分布が決まる　\n",
    "    - データは正規分布に従いそう\n",
    "2. 得られたデータから事後分布の計算（MCMCでサンプリング）\n",
    "\n",
    "## pystanでの流れ\n",
    "1. モデルの記述/コンパイル\n",
    "2. データを辞書で定義\n",
    "3. MCMCでサンプリング\n",
    "4. 結果の抽出"
   ]
  },
  {
   "cell_type": "markdown",
   "metadata": {},
   "source": [
    "# 例題(正規分布に従う80個のデータ)\n",
    "- 観測の目的:与えられたデータからμ,σの分布を求める"
   ]
  },
  {
   "cell_type": "markdown",
   "metadata": {},
   "source": [
    "## データの確認"
   ]
  },
  {
   "cell_type": "code",
   "execution_count": 2,
   "metadata": {
    "ExecuteTime": {
     "end_time": "2019-01-10T06:43:12.237834Z",
     "start_time": "2019-01-10T06:43:12.230564Z"
    }
   },
   "outputs": [],
   "source": [
    "data = np.random.randn(80)"
   ]
  },
  {
   "cell_type": "code",
   "execution_count": 3,
   "metadata": {
    "ExecuteTime": {
     "end_time": "2019-01-10T06:43:12.272091Z",
     "start_time": "2019-01-10T06:43:12.242636Z"
    }
   },
   "outputs": [],
   "source": [
    "df = pd.DataFrame(data )"
   ]
  },
  {
   "cell_type": "code",
   "execution_count": 4,
   "metadata": {
    "ExecuteTime": {
     "end_time": "2019-01-10T06:43:12.301785Z",
     "start_time": "2019-01-10T06:43:12.279264Z"
    }
   },
   "outputs": [
    {
     "data": {
      "text/html": [
       "<div>\n",
       "<style scoped>\n",
       "    .dataframe tbody tr th:only-of-type {\n",
       "        vertical-align: middle;\n",
       "    }\n",
       "\n",
       "    .dataframe tbody tr th {\n",
       "        vertical-align: top;\n",
       "    }\n",
       "\n",
       "    .dataframe thead th {\n",
       "        text-align: right;\n",
       "    }\n",
       "</style>\n",
       "<table border=\"1\" class=\"dataframe\">\n",
       "  <thead>\n",
       "    <tr style=\"text-align: right;\">\n",
       "      <th></th>\n",
       "      <th>0</th>\n",
       "    </tr>\n",
       "  </thead>\n",
       "  <tbody>\n",
       "    <tr>\n",
       "      <th>0</th>\n",
       "      <td>-1.200452</td>\n",
       "    </tr>\n",
       "    <tr>\n",
       "      <th>1</th>\n",
       "      <td>-0.033873</td>\n",
       "    </tr>\n",
       "    <tr>\n",
       "      <th>2</th>\n",
       "      <td>0.904708</td>\n",
       "    </tr>\n",
       "    <tr>\n",
       "      <th>3</th>\n",
       "      <td>0.484256</td>\n",
       "    </tr>\n",
       "    <tr>\n",
       "      <th>4</th>\n",
       "      <td>0.802071</td>\n",
       "    </tr>\n",
       "  </tbody>\n",
       "</table>\n",
       "</div>"
      ],
      "text/plain": [
       "          0\n",
       "0 -1.200452\n",
       "1 -0.033873\n",
       "2  0.904708\n",
       "3  0.484256\n",
       "4  0.802071"
      ]
     },
     "execution_count": 4,
     "metadata": {},
     "output_type": "execute_result"
    }
   ],
   "source": [
    "df.head()"
   ]
  },
  {
   "cell_type": "code",
   "execution_count": 5,
   "metadata": {
    "ExecuteTime": {
     "end_time": "2019-01-10T06:43:12.805042Z",
     "start_time": "2019-01-10T06:43:12.305032Z"
    }
   },
   "outputs": [
    {
     "data": {
      "text/plain": [
       "(array([ 3.,  6.,  8., 10., 16., 13., 10.,  8.,  3.,  3.]),\n",
       " array([-2.42056524, -1.9639019 , -1.50723856, -1.05057522, -0.59391188,\n",
       "        -0.13724854,  0.3194148 ,  0.77607814,  1.23274148,  1.68940482,\n",
       "         2.14606816]),\n",
       " <a list of 10 Patch objects>)"
      ]
     },
     "execution_count": 5,
     "metadata": {},
     "output_type": "execute_result"
    },
    {
     "data": {
      "image/png": "[encoded data removed]",
      "text/plain": [
       "<Figure size 432x288 with 1 Axes>"
      ]
     },
     "metadata": {
      "image/png": {
       "height": 252,
       "width": 373
      }
     },
     "output_type": "display_data"
    }
   ],
   "source": [
    "plt.hist(df[0])"
   ]
  },
  {
   "cell_type": "markdown",
   "metadata": {},
   "source": [
    "## モデルの記述\n",
    "### ポイント\n",
    "1. ブロックごとに記述する\n",
    "    - data/パラメータ/当駅モデル/事前分布のブロックを記述する\n",
    "2. Stanの文法に従う(C++の文法)"
   ]
  },
  {
   "cell_type": "code",
   "execution_count": 6,
   "metadata": {
    "ExecuteTime": {
     "end_time": "2019-01-10T06:43:12.813276Z",
     "start_time": "2019-01-10T06:43:12.808072Z"
    }
   },
   "outputs": [],
   "source": [
    "stan_model = \"\"\" \n",
    "// 得ているデータ\n",
    "data{\n",
    "    //　データの個数\n",
    "    int N;\n",
    "    \n",
    "    //実数系\n",
    "    real Y[N];\n",
    "}\n",
    "\n",
    "//推定するパラメータ\n",
    "parameters{\n",
    "    real mu;\n",
    "    real<lower=0> sigma;\n",
    " }\n",
    " \n",
    " //統計モデル\n",
    " model{ \n",
    "     //正規分布のモデル\n",
    "     for (i in 1:N){\n",
    "         //Yが正規分布に従うという記述\n",
    "         Y[i] ~ normal(mu, sigma);\n",
    "     }\n",
    "     //事前分布\n",
    "     mu ~ normal(0, 100);\n",
    "    \n",
    "}\n",
    "\"\"\" "
   ]
  },
  {
   "cell_type": "markdown",
   "metadata": {},
   "source": [
    "## モデルのコンパイル"
   ]
  },
  {
   "cell_type": "code",
   "execution_count": 7,
   "metadata": {
    "ExecuteTime": {
     "end_time": "2019-01-10T06:44:13.333841Z",
     "start_time": "2019-01-10T06:43:12.815800Z"
    }
   },
   "outputs": [
    {
     "name": "stderr",
     "output_type": "stream",
     "text": [
      "INFO:pystan:COMPILING THE C++ CODE FOR MODEL anon_model_6099df377ca5ebd3b16805e0d34cb5d1 NOW.\n"
     ]
    }
   ],
   "source": [
    "from pystan import StanModel\n",
    "sm = StanModel(model_code=stan_model)"
   ]
  },
  {
   "cell_type": "markdown",
   "metadata": {},
   "source": [
    "## データを辞書型で渡す"
   ]
  },
  {
   "cell_type": "code",
   "execution_count": 8,
   "metadata": {
    "ExecuteTime": {
     "end_time": "2019-01-10T06:44:13.380150Z",
     "start_time": "2019-01-10T06:44:13.345841Z"
    }
   },
   "outputs": [],
   "source": [
    "stan_data = {\"N\":df.shape[0], \"Y\":df[0]}\n",
    "# df.shape[0] =>データのサイズ"
   ]
  },
  {
   "cell_type": "markdown",
   "metadata": {},
   "source": [
    "## MCMCでサンプリング"
   ]
  },
  {
   "cell_type": "code",
   "execution_count": 9,
   "metadata": {
    "ExecuteTime": {
     "end_time": "2019-01-10T06:44:13.687889Z",
     "start_time": "2019-01-10T06:44:13.386359Z"
    }
   },
   "outputs": [],
   "source": [
    "fit = sm.sampling(data=stan_data, iter=2000, chains=3, warmup=500, seed=123)\n",
    "# iter:反復回数回数\n",
    "# shains:モンテカルロステップスを行う回数"
   ]
  },
  {
   "cell_type": "markdown",
   "metadata": {},
   "source": [
    "## 結果の抽出"
   ]
  },
  {
   "cell_type": "markdown",
   "metadata": {},
   "source": [
    "### fitの見方\n",
    "- 上部:計算条件\n",
    "- 下部；事後分布の平均値/事後分布の誤差収束\n",
    "- Rhatが1以下出ないといけない"
   ]
  },
  {
   "cell_type": "code",
   "execution_count": 10,
   "metadata": {
    "ExecuteTime": {
     "end_time": "2019-01-10T06:44:13.715157Z",
     "start_time": "2019-01-10T06:44:13.691387Z"
    }
   },
   "outputs": [
    {
     "data": {
      "text/plain": [
       "Inference for Stan model: anon_model_6099df377ca5ebd3b16805e0d34cb5d1.\n",
       "3 chains, each with iter=2000; warmup=500; thin=1; \n",
       "post-warmup draws per chain=1500, total post-warmup draws=4500.\n",
       "\n",
       "        mean se_mean     sd   2.5%    25%    50%    75%  97.5%  n_eff   Rhat\n",
       "mu     -0.21  1.6e-3   0.11  -0.44  -0.28  -0.21  -0.13   0.02   5002    1.0\n",
       "sigma   1.02  1.3e-3   0.08   0.88   0.96   1.02   1.07    1.2   3785    1.0\n",
       "lp__  -41.03    0.02   0.99 -43.74 -41.43 -40.73 -40.32 -40.05   2104    1.0\n",
       "\n",
       "Samples were drawn using NUTS at Thu Jan 10 15:44:13 2019.\n",
       "For each parameter, n_eff is a crude measure of effective sample size,\n",
       "and Rhat is the potential scale reduction factor on split chains (at \n",
       "convergence, Rhat=1)."
      ]
     },
     "execution_count": 10,
     "metadata": {},
     "output_type": "execute_result"
    }
   ],
   "source": [
    "fit"
   ]
  },
  {
   "cell_type": "code",
   "execution_count": 11,
   "metadata": {
    "ExecuteTime": {
     "end_time": "2019-01-10T06:44:14.984520Z",
     "start_time": "2019-01-10T06:44:13.718142Z"
    }
   },
   "outputs": [
    {
     "name": "stderr",
     "output_type": "stream",
     "text": [
      "WARNING:pystan:Deprecation warning. In future, use ArviZ library (`pip install arviz`)\n"
     ]
    },
    {
     "data": {
      "image/png": "[encoded data removed]",
      "text/plain": [
       "<Figure size 432x288 with 4 Axes>"
      ]
     },
     "metadata": {
      "image/png": {
       "height": 267,
       "width": 381
      }
     },
     "output_type": "display_data"
    }
   ],
   "source": [
    "fig = fit.plot()\n",
    "# 右側：トレースプロット：収束している"
   ]
  }
 ],
 "metadata": {
  "hide_input": false,
  "kernelspec": {
   "display_name": "Python 3",
   "language": "python",
   "name": "python3"
  },
  "language_info": {
   "codemirror_mode": {
    "name": "ipython",
    "version": 3
   },
   "file_extension": ".py",
   "mimetype": "text/x-python",
   "name": "python",
   "nbconvert_exporter": "python",
   "pygments_lexer": "ipython3",
   "version": "3.6.5"
  },
  "latex_envs": {
   "LaTeX_envs_menu_present": true,
   "autoclose": false,
   "autocomplete": true,
   "bibliofile": "biblio.bib",
   "cite_by": "apalike",
   "current_citInitial": 1,
   "eqLabelWithNumbers": true,
   "eqNumInitial": 1,
   "hotkeys": {
    "equation": "Ctrl-E",
    "itemize": "Ctrl-I"
   },
   "labels_anchors": false,
   "latex_user_defs": false,
   "report_style_numbering": false,
   "user_envs_cfg": false
  },
  "toc": {
   "base_numbering": 1,
   "nav_menu": {},
   "number_sections": true,
   "sideBar": true,
   "skip_h1_title": false,
   "title_cell": "Table of Contents",
   "title_sidebar": "Contents",
   "toc_cell": false,
   "toc_position": {},
   "toc_section_display": true,
   "toc_window_display": false
  }
 },
 "nbformat": 4,
 "nbformat_minor": 2
}

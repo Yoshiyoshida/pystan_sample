{
 "cells": [
  {
   "cell_type": "markdown",
   "metadata": {
    "ExecuteTime": {
     "end_time": "2019-01-07T06:20:24.440648Z",
     "start_time": "2019-01-07T06:20:21.148077Z"
    }
   },
   "source": [
    "# ライブラリインストール"
   ]
  },
  {
   "cell_type": "code",
   "execution_count": 1,
   "metadata": {
    "ExecuteTime": {
     "end_time": "2019-01-07T06:58:24.159550Z",
     "start_time": "2019-01-07T06:58:22.420632Z"
    }
   },
   "outputs": [],
   "source": [
    "import numpy as np\n",
    "import pandas as pd\n",
    "import matplotlib.pyplot as plt\n",
    "import scipy  \n",
    "%matplotlib inline\n",
    "%config InlineBackend.figure_format = 'retina'\n",
    "plt.rcParams['axes.labelsize'] = 14\n",
    "plt.rcParams['xtick.labelsize'] = 12\n",
    "plt.rcParams['ytick.labelsize'] = 12\n",
    "\n",
    "import seaborn as sns\n",
    "\n",
    "#import missingno as msno\n",
    "\n",
    "#from tqdm import tqdm_notebook as tqdm\n",
    "\n",
    "#import plotly\n",
    "#plotly.offline.init_notebook_mode(connected=False)\n",
    "\n",
    "import warnings\n",
    "warnings.filterwarnings('ignore') # warningが出ないように設定\n",
    "pd.set_option(\"display.max_rows\", None) # pandasの表示上限をなくす\n",
    "pd.set_option(\"display.max_columns\", None) # pandasの表示上限をなくす"
   ]
  },
  {
   "cell_type": "markdown",
   "metadata": {},
   "source": [
    "# 概要\n",
    "- 事後分布のサンプリング=MCMCで事後分布をサンプリングする\n",
    "    - マルコフ連鎖を利用する\n",
    "$$\n",
    "マルコフ連鎖:新しいθ_tが直前のθ_{t-1}のみから決定する確率過程\n",
    "$$\n",
    "\n",
    "- 詳細釣り合い:詳細釣り合いを満たすと、確率分布が定常になる"
   ]
  },
  {
   "cell_type": "markdown",
   "metadata": {},
   "source": [
    "# stanとは\n",
    "- HMCを用いたMCMC用のプログラミング言語\n",
    "## 特徴\n",
    "- 統計モデルの記述が簡単\n",
    "- HMCなので高速\n",
    "- 様々な確率分布を用意している\n",
    "\n",
    "## 計算の流れ\n",
    "### 通常のベイズ統計\n",
    "0. 下調べ：問題の背景を調べる\n",
    "1. 下調べをもとに,モデルの作成\n",
    "2. 得られたデータから事後分布の計算（MCMCで計算）\n",
    "\n",
    "### pystanがやる内容\n",
    "1. 下調べをもとに,モデルの作成(pystan上にモデリング)\n",
    "    - データの性質を可視化して、尤度関数、事前分布が決まる　\n",
    "    - データは正規分布に従いそう\n",
    "2. 得られたデータから事後分布の計算（MCMCでサンプリング）"
   ]
  },
  {
   "cell_type": "code",
   "execution_count": null,
   "metadata": {},
   "outputs": [],
   "source": []
  }
 ],
 "metadata": {
  "hide_input": false,
  "kernelspec": {
   "display_name": "Python 3",
   "language": "python",
   "name": "python3"
  },
  "language_info": {
   "codemirror_mode": {
    "name": "ipython",
    "version": 3
   },
   "file_extension": ".py",
   "mimetype": "text/x-python",
   "name": "python",
   "nbconvert_exporter": "python",
   "pygments_lexer": "ipython3",
   "version": "3.6.5"
  },
  "latex_envs": {
   "LaTeX_envs_menu_present": true,
   "autoclose": false,
   "autocomplete": true,
   "bibliofile": "biblio.bib",
   "cite_by": "apalike",
   "current_citInitial": 1,
   "eqLabelWithNumbers": true,
   "eqNumInitial": 1,
   "hotkeys": {
    "equation": "Ctrl-E",
    "itemize": "Ctrl-I"
   },
   "labels_anchors": false,
   "latex_user_defs": false,
   "report_style_numbering": false,
   "user_envs_cfg": false
  },
  "toc": {
   "base_numbering": 1,
   "nav_menu": {},
   "number_sections": true,
   "sideBar": true,
   "skip_h1_title": false,
   "title_cell": "Table of Contents",
   "title_sidebar": "Contents",
   "toc_cell": false,
   "toc_position": {},
   "toc_section_display": true,
   "toc_window_display": false
  }
 },
 "nbformat": 4,
 "nbformat_minor": 2
}

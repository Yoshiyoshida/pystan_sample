{
 "cells": [
  {
   "cell_type": "markdown",
   "metadata": {
    "ExecuteTime": {
     "end_time": "2019-01-07T06:20:24.440648Z",
     "start_time": "2019-01-07T06:20:21.148077Z"
    }
   },
   "source": [
    "# ライブラリインストール"
   ]
  },
  {
   "cell_type": "code",
   "execution_count": 30,
   "metadata": {
    "ExecuteTime": {
     "end_time": "2019-01-07T07:54:04.742006Z",
     "start_time": "2019-01-07T07:54:04.708450Z"
    }
   },
   "outputs": [],
   "source": [
    "import numpy as np\n",
    "import pandas as pd\n",
    "import matplotlib.pyplot as plt\n",
    "import scipy  \n",
    "%matplotlib inline\n",
    "%config InlineBackend.figure_format = 'retina'\n",
    "plt.rcParams['axes.labelsize'] = 14\n",
    "plt.rcParams['xtick.labelsize'] = 12\n",
    "plt.rcParams['ytick.labelsize'] = 12\n",
    "\n",
    "plt.style.use(\"ggplot\")\n",
    "import seaborn as sns\n",
    "\n",
    "#import missingno as msno\n",
    "\n",
    "#from tqdm import tqdm_notebook as tqdm\n",
    "\n",
    "#import plotly\n",
    "#plotly.offline.init_notebook_mode(connected=False)\n",
    "\n",
    "import warnings\n",
    "warnings.filterwarnings('ignore') # warningが出ないように設定\n",
    "pd.set_option(\"display.max_rows\", None) # pandasの表示上限をなくす\n",
    "pd.set_option(\"display.max_columns\", None) # pandasの表示上限をなくす"
   ]
  },
  {
   "cell_type": "markdown",
   "metadata": {},
   "source": [
    "# 概要\n",
    "- 事後分布のサンプリング=MCMCで事後分布をサンプリングする\n",
    "    - マルコフ連鎖を利用する\n",
    "$$\n",
    "マルコフ連鎖:新しいθ_tが直前のθ_{t-1}のみから決定する確率過程\n",
    "$$\n",
    "\n",
    "- 詳細釣り合い:詳細釣り合いを満たすと、確率分布が定常になる"
   ]
  },
  {
   "cell_type": "markdown",
   "metadata": {},
   "source": [
    "# stanとは\n",
    "- HMCを用いたMCMC用のプログラミング言語\n",
    "## 特徴\n",
    "- 統計モデルの記述が簡単\n",
    "- HMCなので高速\n",
    "- 様々な確率分布を用意している\n",
    "\n",
    "## 計算の流れ\n",
    "### 通常のベイズ統計\n",
    "0. 下調べ：問題の背景を調べる\n",
    "1. 下調べをもとに,モデルの作成\n",
    "2. 得られたデータから事後分布の計算（MCMCで計算）\n",
    "\n",
    "### pystanがやる内容\n",
    "1. 下調べをもとに,モデルの作成(pystan上にモデリング)\n",
    "    - データの性質を可視化して、尤度関数、事前分布が決まる　\n",
    "    - データは正規分布に従いそう\n",
    "2. 得られたデータから事後分布の計算（MCMCでサンプリング）\n",
    "\n",
    "## pystanでの流れ\n",
    "1. モデルの記述/コンパイル\n",
    "2. データを辞書で定義\n",
    "3. MCMCでサンプリング\n",
    "4. 結果の抽出"
   ]
  },
  {
   "cell_type": "markdown",
   "metadata": {},
   "source": [
    "# 例題(正規分布に従う80個のデータ)\n",
    "- 観測の目的:与えられたデータからμ,σをのぞご分布を求める"
   ]
  },
  {
   "cell_type": "markdown",
   "metadata": {},
   "source": [
    "## データの確認"
   ]
  },
  {
   "cell_type": "code",
   "execution_count": 2,
   "metadata": {
    "ExecuteTime": {
     "end_time": "2019-01-07T07:29:43.088344Z",
     "start_time": "2019-01-07T07:29:43.077518Z"
    }
   },
   "outputs": [],
   "source": [
    "data = np.random.randn(80)"
   ]
  },
  {
   "cell_type": "code",
   "execution_count": 22,
   "metadata": {
    "ExecuteTime": {
     "end_time": "2019-01-07T07:47:18.159710Z",
     "start_time": "2019-01-07T07:47:18.153403Z"
    }
   },
   "outputs": [],
   "source": [
    "df = pd.DataFrame(data )"
   ]
  },
  {
   "cell_type": "code",
   "execution_count": 23,
   "metadata": {
    "ExecuteTime": {
     "end_time": "2019-01-07T07:47:18.693358Z",
     "start_time": "2019-01-07T07:47:18.675133Z"
    }
   },
   "outputs": [
    {
     "data": {
      "text/html": [
       "<div>\n",
       "<style scoped>\n",
       "    .dataframe tbody tr th:only-of-type {\n",
       "        vertical-align: middle;\n",
       "    }\n",
       "\n",
       "    .dataframe tbody tr th {\n",
       "        vertical-align: top;\n",
       "    }\n",
       "\n",
       "    .dataframe thead th {\n",
       "        text-align: right;\n",
       "    }\n",
       "</style>\n",
       "<table border=\"1\" class=\"dataframe\">\n",
       "  <thead>\n",
       "    <tr style=\"text-align: right;\">\n",
       "      <th></th>\n",
       "      <th>0</th>\n",
       "    </tr>\n",
       "  </thead>\n",
       "  <tbody>\n",
       "    <tr>\n",
       "      <th>0</th>\n",
       "      <td>0.449095</td>\n",
       "    </tr>\n",
       "    <tr>\n",
       "      <th>1</th>\n",
       "      <td>0.439440</td>\n",
       "    </tr>\n",
       "    <tr>\n",
       "      <th>2</th>\n",
       "      <td>-0.106429</td>\n",
       "    </tr>\n",
       "    <tr>\n",
       "      <th>3</th>\n",
       "      <td>1.137137</td>\n",
       "    </tr>\n",
       "    <tr>\n",
       "      <th>4</th>\n",
       "      <td>-1.591614</td>\n",
       "    </tr>\n",
       "  </tbody>\n",
       "</table>\n",
       "</div>"
      ],
      "text/plain": [
       "          0\n",
       "0  0.449095\n",
       "1  0.439440\n",
       "2 -0.106429\n",
       "3  1.137137\n",
       "4 -1.591614"
      ]
     },
     "execution_count": 23,
     "metadata": {},
     "output_type": "execute_result"
    }
   ],
   "source": [
    "df.head()"
   ]
  },
  {
   "cell_type": "markdown",
   "metadata": {},
   "source": [
    "## モデルの記述\n",
    "### ポイント\n",
    "1. ブロックブロックごとに記述する\n",
    "    - data/パラメータ/当駅モデル/事前分布のブロックを記述する\n",
    "2. Stanの文法に従う(C++の文法)"
   ]
  },
  {
   "cell_type": "code",
   "execution_count": 10,
   "metadata": {
    "ExecuteTime": {
     "end_time": "2019-01-07T07:41:05.750425Z",
     "start_time": "2019-01-07T07:41:05.735984Z"
    }
   },
   "outputs": [
    {
     "ename": "SyntaxError",
     "evalue": "invalid syntax (<ipython-input-10-b87a44c41ec3>, line 6)",
     "output_type": "error",
     "traceback": [
      "\u001b[0;36m  File \u001b[0;32m\"<ipython-input-10-b87a44c41ec3>\"\u001b[0;36m, line \u001b[0;32m6\u001b[0m\n\u001b[0;31m    data{\u001b[0m\n\u001b[0m        ^\u001b[0m\n\u001b[0;31mSyntaxError\u001b[0m\u001b[0;31m:\u001b[0m invalid syntax\n"
     ]
    }
   ],
   "source": [
    "\"\"\" \n",
    "\n",
    "#　詳細説明\n",
    "stan_model = \"\"\" \n",
    "# 得ているデータ\n",
    "data{\n",
    "    int N;　#　データの個数\n",
    "    real Y[N];\n",
    "}\n",
    "\n",
    "＃推定するパラメータ\n",
    "parameters{\n",
    "    real mu;\n",
    "    real<lower=0> sigma;\n",
    " }\n",
    " \n",
    " # 統計モデル\n",
    " model{ \n",
    "     # 正規分布のモデル\n",
    "     for (i in 1:N){\n",
    "         Y[i] ~ normal(mu, sigma);\n",
    "     }\n",
    "     #事前分布\n",
    "     mu ~ normal(0, 100);\n",
    "    \n",
    "}\n",
    "\"\"\" \n",
    "\n",
    "\"\"\" \n"
   ]
  },
  {
   "cell_type": "code",
   "execution_count": 8,
   "metadata": {
    "ExecuteTime": {
     "end_time": "2019-01-07T07:40:06.482029Z",
     "start_time": "2019-01-07T07:40:06.478487Z"
    }
   },
   "outputs": [],
   "source": [
    "stan_model = \"\"\" \n",
    "\n",
    "data{\n",
    "    int N;\n",
    "    real Y[N];\n",
    "}\n",
    "\n",
    "\n",
    "parameters{\n",
    "    real mu;\n",
    "    real<lower=0> sigma;\n",
    " }\n",
    " \n",
    " \n",
    " model{ \n",
    "     \n",
    "     for (i in 1:N){\n",
    "         Y[i] ~ normal(mu, sigma);\n",
    "     }\n",
    "     mu ~ normal(0, 100);\n",
    "    \n",
    "}\n",
    "\"\"\" "
   ]
  },
  {
   "cell_type": "markdown",
   "metadata": {},
   "source": [
    "## モデルのコンパイル"
   ]
  },
  {
   "cell_type": "code",
   "execution_count": 9,
   "metadata": {
    "ExecuteTime": {
     "end_time": "2019-01-07T07:41:05.728678Z",
     "start_time": "2019-01-07T07:40:08.827875Z"
    }
   },
   "outputs": [
    {
     "name": "stderr",
     "output_type": "stream",
     "text": [
      "INFO:pystan:COMPILING THE C++ CODE FOR MODEL anon_model_4e5e8e6e17590d16ee6139a07c38a0d2 NOW.\n"
     ]
    }
   ],
   "source": [
    "from pystan import StanModel\n",
    "sm = StanModel(model_code=stan_model)"
   ]
  },
  {
   "cell_type": "markdown",
   "metadata": {},
   "source": [
    "## データを辞書型で渡す"
   ]
  },
  {
   "cell_type": "code",
   "execution_count": 24,
   "metadata": {
    "ExecuteTime": {
     "end_time": "2019-01-07T07:47:23.646790Z",
     "start_time": "2019-01-07T07:47:23.639293Z"
    }
   },
   "outputs": [],
   "source": [
    "stan_data = {\"N\":df.shape[0], \"Y\":df[0]}"
   ]
  },
  {
   "cell_type": "markdown",
   "metadata": {},
   "source": [
    "## MCMCでサンプリング"
   ]
  },
  {
   "cell_type": "code",
   "execution_count": 28,
   "metadata": {
    "ExecuteTime": {
     "end_time": "2019-01-07T07:48:11.253550Z",
     "start_time": "2019-01-07T07:48:10.737820Z"
    }
   },
   "outputs": [],
   "source": [
    "fit = sm.sampling(data=stan_data, iter=2000, chains=3, warmup=500)\n",
    "# iter:反復回数回数\n",
    "# shains:モンテカルロステッピを行う回数"
   ]
  },
  {
   "cell_type": "markdown",
   "metadata": {},
   "source": [
    "## 結果の抽出"
   ]
  },
  {
   "cell_type": "markdown",
   "metadata": {},
   "source": [
    "### fitの見方\n",
    "- 上部:計算条件\n",
    "- 下部；事後分布の平均値/事後分布の誤差収束\n",
    "- Rhatが1以下出ないといけない"
   ]
  },
  {
   "cell_type": "code",
   "execution_count": 26,
   "metadata": {
    "ExecuteTime": {
     "end_time": "2019-01-07T07:47:27.240513Z",
     "start_time": "2019-01-07T07:47:27.220292Z"
    }
   },
   "outputs": [
    {
     "data": {
      "text/plain": [
       "Inference for Stan model: anon_model_4e5e8e6e17590d16ee6139a07c38a0d2.\n",
       "3 chains, each with iter=2000; warmup=500; thin=1; \n",
       "post-warmup draws per chain=1500, total post-warmup draws=4500.\n",
       "\n",
       "        mean se_mean     sd   2.5%    25%    50%    75%  97.5%  n_eff   Rhat\n",
       "mu      0.07  1.9e-3   0.11  -0.14-9.5e-4   0.07   0.15   0.29   3492    1.0\n",
       "sigma    1.0  1.3e-3   0.08   0.86   0.94   0.99   1.05   1.17   3686    1.0\n",
       "lp__  -39.17    0.02    1.0  -41.9 -39.55 -38.87 -38.46 -38.21   1954    1.0\n",
       "\n",
       "Samples were drawn using NUTS at Mon Jan  7 16:47:25 2019.\n",
       "For each parameter, n_eff is a crude measure of effective sample size,\n",
       "and Rhat is the potential scale reduction factor on split chains (at \n",
       "convergence, Rhat=1)."
      ]
     },
     "execution_count": 26,
     "metadata": {},
     "output_type": "execute_result"
    }
   ],
   "source": [
    "fit"
   ]
  },
  {
   "cell_type": "code",
   "execution_count": 31,
   "metadata": {
    "ExecuteTime": {
     "end_time": "2019-01-07T07:54:08.749430Z",
     "start_time": "2019-01-07T07:54:08.141053Z"
    }
   },
   "outputs": [
    {
     "name": "stderr",
     "output_type": "stream",
     "text": [
      "WARNING:pystan:Deprecation warning. In future, use ArviZ library (`pip install arviz`)\n"
     ]
    },
    {
     "data": {
      "image/png": "[encoded data removed]",
      "text/plain": [
       "<Figure size 432x288 with 4 Axes>"
      ]
     },
     "metadata": {
      "image/png": {
       "height": 267,
       "width": 381
      }
     },
     "output_type": "display_data"
    }
   ],
   "source": [
    "fig = fit.plot()\n",
    "# 右側：トレースプロット：収束している"
   ]
  },
  {
   "cell_type": "code",
   "execution_count": null,
   "metadata": {},
   "outputs": [],
   "source": []
  }
 ],
 "metadata": {
  "hide_input": false,
  "kernelspec": {
   "display_name": "Python 3",
   "language": "python",
   "name": "python3"
  },
  "language_info": {
   "codemirror_mode": {
    "name": "ipython",
    "version": 3
   },
   "file_extension": ".py",
   "mimetype": "text/x-python",
   "name": "python",
   "nbconvert_exporter": "python",
   "pygments_lexer": "ipython3",
   "version": "3.6.5"
  },
  "latex_envs": {
   "LaTeX_envs_menu_present": true,
   "autoclose": false,
   "autocomplete": true,
   "bibliofile": "biblio.bib",
   "cite_by": "apalike",
   "current_citInitial": 1,
   "eqLabelWithNumbers": true,
   "eqNumInitial": 1,
   "hotkeys": {
    "equation": "Ctrl-E",
    "itemize": "Ctrl-I"
   },
   "labels_anchors": false,
   "latex_user_defs": false,
   "report_style_numbering": false,
   "user_envs_cfg": false
  },
  "toc": {
   "base_numbering": 1,
   "nav_menu": {},
   "number_sections": true,
   "sideBar": true,
   "skip_h1_title": false,
   "title_cell": "Table of Contents",
   "title_sidebar": "Contents",
   "toc_cell": false,
   "toc_position": {},
   "toc_section_display": true,
   "toc_window_display": false
  }
 },
 "nbformat": 4,
 "nbformat_minor": 2
}

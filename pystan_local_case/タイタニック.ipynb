{
 "cells": [
  {
   "cell_type": "markdown",
   "metadata": {},
   "source": [
    "# 概要\n",
    "https://qiita.com/kenmatsu4/items/dd9593edf282d44168d3\n",
    "- Titanicdデータセットを使ってpystanの練習をする\n",
    "- ロジスティック回帰を行う\n",
    "- y =  ax_1 + bx_2 + .......\n",
    "\n",
    "## 求めたいもの\n",
    "- 切片/ 係数ベクトル"
   ]
  },
  {
   "cell_type": "markdown",
   "metadata": {},
   "source": [
    "# ライブラリ準備"
   ]
  },
  {
   "cell_type": "code",
   "execution_count": 4,
   "metadata": {
    "ExecuteTime": {
     "end_time": "2019-01-10T09:20:35.573355Z",
     "start_time": "2019-01-10T09:20:35.524007Z"
    }
   },
   "outputs": [],
   "source": [
    "import numpy as np\n",
    "import pandas as pd\n",
    "import matplotlib.pyplot as plt\n",
    "import japanize_matplotlib \n",
    "plt.style.use(\"ggplot\")\n",
    "%matplotlib inline\n",
    "%config InlineBackend.figure_format = 'retina'\n",
    "plt.rcParams['axes.labelsize'] = 14\n",
    "plt.rcParams['xtick.labelsize'] = 12\n",
    "plt.rcParams['ytick.labelsize'] = 12\n",
    "from matplotlib import animation as ani\n",
    "import matplotlib.cm as cm\n",
    "import seaborn as sns\n",
    "\n",
    "from tabulate import tabulate\n",
    "from time import time\n",
    "\n",
    "import pystan\n",
    "from pystan import StanModel\n",
    "\n",
    "from sklearn.model_selection import train_test_split\n",
    "from scipy.stats import gaussian_kde\n",
    "\n",
    "# 設定\n",
    "import warnings\n",
    "warnings.filterwarnings('ignore') # warningが出ないように設定\n",
    "pd.set_option(\"display.max_rows\", None) # pandasの表示上限をなくす\n",
    "pd.set_option(\"display.max_columns\", None) # pandasの表示上限をなくす"
   ]
  },
  {
   "cell_type": "markdown",
   "metadata": {},
   "source": [
    "# データ"
   ]
  },
  {
   "cell_type": "markdown",
   "metadata": {},
   "source": [
    "## 準備"
   ]
  },
  {
   "cell_type": "code",
   "execution_count": 5,
   "metadata": {
    "ExecuteTime": {
     "end_time": "2019-01-10T09:20:38.590056Z",
     "start_time": "2019-01-10T09:20:36.665866Z"
    },
    "scrolled": true
   },
   "outputs": [
    {
     "data": {
      "text/html": [
       "<div>\n",
       "<style scoped>\n",
       "    .dataframe tbody tr th:only-of-type {\n",
       "        vertical-align: middle;\n",
       "    }\n",
       "\n",
       "    .dataframe tbody tr th {\n",
       "        vertical-align: top;\n",
       "    }\n",
       "\n",
       "    .dataframe thead th {\n",
       "        text-align: right;\n",
       "    }\n",
       "</style>\n",
       "<table border=\"1\" class=\"dataframe\">\n",
       "  <thead>\n",
       "    <tr style=\"text-align: right;\">\n",
       "      <th></th>\n",
       "      <th>survived</th>\n",
       "      <th>pclass</th>\n",
       "      <th>sex</th>\n",
       "      <th>age</th>\n",
       "      <th>sibsp</th>\n",
       "      <th>parch</th>\n",
       "      <th>fare</th>\n",
       "      <th>embarked</th>\n",
       "      <th>class</th>\n",
       "      <th>who</th>\n",
       "      <th>adult_male</th>\n",
       "      <th>deck</th>\n",
       "      <th>embark_town</th>\n",
       "      <th>alone</th>\n",
       "    </tr>\n",
       "  </thead>\n",
       "  <tbody>\n",
       "    <tr>\n",
       "      <th>0</th>\n",
       "      <td>0</td>\n",
       "      <td>3</td>\n",
       "      <td>1</td>\n",
       "      <td>22.0</td>\n",
       "      <td>1</td>\n",
       "      <td>0</td>\n",
       "      <td>7.2500</td>\n",
       "      <td>1</td>\n",
       "      <td>3</td>\n",
       "      <td>1</td>\n",
       "      <td>1</td>\n",
       "      <td>0</td>\n",
       "      <td>3</td>\n",
       "      <td>1</td>\n",
       "    </tr>\n",
       "    <tr>\n",
       "      <th>1</th>\n",
       "      <td>1</td>\n",
       "      <td>1</td>\n",
       "      <td>0</td>\n",
       "      <td>38.0</td>\n",
       "      <td>1</td>\n",
       "      <td>0</td>\n",
       "      <td>71.2833</td>\n",
       "      <td>2</td>\n",
       "      <td>1</td>\n",
       "      <td>2</td>\n",
       "      <td>0</td>\n",
       "      <td>3</td>\n",
       "      <td>1</td>\n",
       "      <td>0</td>\n",
       "    </tr>\n",
       "    <tr>\n",
       "      <th>2</th>\n",
       "      <td>1</td>\n",
       "      <td>3</td>\n",
       "      <td>0</td>\n",
       "      <td>26.0</td>\n",
       "      <td>0</td>\n",
       "      <td>0</td>\n",
       "      <td>7.9250</td>\n",
       "      <td>1</td>\n",
       "      <td>3</td>\n",
       "      <td>2</td>\n",
       "      <td>0</td>\n",
       "      <td>0</td>\n",
       "      <td>3</td>\n",
       "      <td>0</td>\n",
       "    </tr>\n",
       "    <tr>\n",
       "      <th>3</th>\n",
       "      <td>1</td>\n",
       "      <td>1</td>\n",
       "      <td>0</td>\n",
       "      <td>35.0</td>\n",
       "      <td>1</td>\n",
       "      <td>0</td>\n",
       "      <td>53.1000</td>\n",
       "      <td>1</td>\n",
       "      <td>1</td>\n",
       "      <td>2</td>\n",
       "      <td>0</td>\n",
       "      <td>3</td>\n",
       "      <td>3</td>\n",
       "      <td>0</td>\n",
       "    </tr>\n",
       "    <tr>\n",
       "      <th>4</th>\n",
       "      <td>0</td>\n",
       "      <td>3</td>\n",
       "      <td>1</td>\n",
       "      <td>35.0</td>\n",
       "      <td>0</td>\n",
       "      <td>0</td>\n",
       "      <td>8.0500</td>\n",
       "      <td>1</td>\n",
       "      <td>3</td>\n",
       "      <td>1</td>\n",
       "      <td>1</td>\n",
       "      <td>0</td>\n",
       "      <td>3</td>\n",
       "      <td>1</td>\n",
       "    </tr>\n",
       "    <tr>\n",
       "      <th>5</th>\n",
       "      <td>0</td>\n",
       "      <td>3</td>\n",
       "      <td>1</td>\n",
       "      <td>28.0</td>\n",
       "      <td>0</td>\n",
       "      <td>0</td>\n",
       "      <td>8.4583</td>\n",
       "      <td>3</td>\n",
       "      <td>3</td>\n",
       "      <td>1</td>\n",
       "      <td>1</td>\n",
       "      <td>0</td>\n",
       "      <td>2</td>\n",
       "      <td>1</td>\n",
       "    </tr>\n",
       "    <tr>\n",
       "      <th>6</th>\n",
       "      <td>0</td>\n",
       "      <td>1</td>\n",
       "      <td>1</td>\n",
       "      <td>54.0</td>\n",
       "      <td>0</td>\n",
       "      <td>0</td>\n",
       "      <td>51.8625</td>\n",
       "      <td>1</td>\n",
       "      <td>1</td>\n",
       "      <td>1</td>\n",
       "      <td>1</td>\n",
       "      <td>5</td>\n",
       "      <td>3</td>\n",
       "      <td>1</td>\n",
       "    </tr>\n",
       "    <tr>\n",
       "      <th>7</th>\n",
       "      <td>0</td>\n",
       "      <td>3</td>\n",
       "      <td>1</td>\n",
       "      <td>2.0</td>\n",
       "      <td>3</td>\n",
       "      <td>1</td>\n",
       "      <td>21.0750</td>\n",
       "      <td>1</td>\n",
       "      <td>3</td>\n",
       "      <td>0</td>\n",
       "      <td>0</td>\n",
       "      <td>0</td>\n",
       "      <td>3</td>\n",
       "      <td>0</td>\n",
       "    </tr>\n",
       "    <tr>\n",
       "      <th>8</th>\n",
       "      <td>1</td>\n",
       "      <td>3</td>\n",
       "      <td>0</td>\n",
       "      <td>27.0</td>\n",
       "      <td>0</td>\n",
       "      <td>2</td>\n",
       "      <td>11.1333</td>\n",
       "      <td>1</td>\n",
       "      <td>3</td>\n",
       "      <td>2</td>\n",
       "      <td>0</td>\n",
       "      <td>0</td>\n",
       "      <td>3</td>\n",
       "      <td>0</td>\n",
       "    </tr>\n",
       "    <tr>\n",
       "      <th>9</th>\n",
       "      <td>1</td>\n",
       "      <td>2</td>\n",
       "      <td>0</td>\n",
       "      <td>14.0</td>\n",
       "      <td>1</td>\n",
       "      <td>0</td>\n",
       "      <td>30.0708</td>\n",
       "      <td>2</td>\n",
       "      <td>2</td>\n",
       "      <td>0</td>\n",
       "      <td>0</td>\n",
       "      <td>0</td>\n",
       "      <td>1</td>\n",
       "      <td>0</td>\n",
       "    </tr>\n",
       "  </tbody>\n",
       "</table>\n",
       "</div>"
      ],
      "text/plain": [
       "   survived  pclass  sex   age  sibsp  parch     fare  embarked  class  who  \\\n",
       "0         0       3    1  22.0      1      0   7.2500         1      3    1   \n",
       "1         1       1    0  38.0      1      0  71.2833         2      1    2   \n",
       "2         1       3    0  26.0      0      0   7.9250         1      3    2   \n",
       "3         1       1    0  35.0      1      0  53.1000         1      1    2   \n",
       "4         0       3    1  35.0      0      0   8.0500         1      3    1   \n",
       "5         0       3    1  28.0      0      0   8.4583         3      3    1   \n",
       "6         0       1    1  54.0      0      0  51.8625         1      1    1   \n",
       "7         0       3    1   2.0      3      1  21.0750         1      3    0   \n",
       "8         1       3    0  27.0      0      2  11.1333         1      3    2   \n",
       "9         1       2    0  14.0      1      0  30.0708         2      2    0   \n",
       "\n",
       "   adult_male  deck  embark_town  alone  \n",
       "0           1     0            3      1  \n",
       "1           0     3            1      0  \n",
       "2           0     0            3      0  \n",
       "3           0     3            3      0  \n",
       "4           1     0            3      1  \n",
       "5           1     0            2      1  \n",
       "6           1     5            3      1  \n",
       "7           0     0            3      0  \n",
       "8           0     0            3      0  \n",
       "9           0     0            1      0  "
      ]
     },
     "execution_count": 5,
     "metadata": {},
     "output_type": "execute_result"
    }
   ],
   "source": [
    "titanic = pd.read_table(\"https://raw.githubusercontent.com/matsuken92/Qiita_Contents/master/PyStan-Titanic/data/titanic_converted.csv\",\n",
    "              sep=\",\", header=0)\n",
    "titanic.head(10)"
   ]
  },
  {
   "cell_type": "code",
   "execution_count": 6,
   "metadata": {
    "ExecuteTime": {
     "end_time": "2019-01-10T09:20:38.652075Z",
     "start_time": "2019-01-10T09:20:38.597065Z"
    }
   },
   "outputs": [
    {
     "ename": "NameError",
     "evalue": "name 'msno' is not defined",
     "output_type": "error",
     "traceback": [
      "\u001b[0;31m---------------------------------------------------------------------------\u001b[0m",
      "\u001b[0;31mNameError\u001b[0m                                 Traceback (most recent call last)",
      "\u001b[0;32m<ipython-input-6-9020b3cd43bf>\u001b[0m in \u001b[0;36m<module>\u001b[0;34m()\u001b[0m\n\u001b[0;32m----> 1\u001b[0;31m \u001b[0mmsno\u001b[0m\u001b[0;34m.\u001b[0m\u001b[0mmatrix\u001b[0m\u001b[0;34m(\u001b[0m\u001b[0mtitanic\u001b[0m\u001b[0;34m)\u001b[0m\u001b[0;34m\u001b[0m\u001b[0m\n\u001b[0m",
      "\u001b[0;31mNameError\u001b[0m: name 'msno' is not defined"
     ]
    }
   ],
   "source": [
    "msno.matrix(titanic)"
   ]
  },
  {
   "cell_type": "markdown",
   "metadata": {},
   "source": [
    "## 分割"
   ]
  },
  {
   "cell_type": "code",
   "execution_count": 8,
   "metadata": {
    "ExecuteTime": {
     "end_time": "2019-01-10T09:20:46.213928Z",
     "start_time": "2019-01-10T09:20:46.208068Z"
    }
   },
   "outputs": [],
   "source": [
    "target = titanic.survived\n",
    "\n",
    "data = titanic.iloc[:, 1:]"
   ]
  },
  {
   "cell_type": "code",
   "execution_count": 9,
   "metadata": {
    "ExecuteTime": {
     "end_time": "2019-01-10T09:20:48.506276Z",
     "start_time": "2019-01-10T09:20:48.497844Z"
    }
   },
   "outputs": [
    {
     "data": {
      "text/plain": [
       "0    0\n",
       "1    1\n",
       "2    1\n",
       "3    1\n",
       "4    0\n",
       "Name: survived, dtype: int64"
      ]
     },
     "execution_count": 9,
     "metadata": {},
     "output_type": "execute_result"
    }
   ],
   "source": [
    "target.head()"
   ]
  },
  {
   "cell_type": "code",
   "execution_count": 10,
   "metadata": {
    "ExecuteTime": {
     "end_time": "2019-01-10T09:20:53.856546Z",
     "start_time": "2019-01-10T09:20:53.848645Z"
    }
   },
   "outputs": [],
   "source": [
    "\n",
    "# 訓練データ(80%), テストデータ(20%)に分割する\n",
    "X_train, X_test, y_train, y_test = train_test_split(data, target, test_size=0.2, random_state=0)"
   ]
  },
  {
   "cell_type": "markdown",
   "metadata": {},
   "source": [
    "# stanで実行"
   ]
  },
  {
   "cell_type": "markdown",
   "metadata": {},
   "source": [
    "## データの定義"
   ]
  },
  {
   "cell_type": "code",
   "execution_count": 11,
   "metadata": {
    "ExecuteTime": {
     "end_time": "2019-01-10T09:20:55.756636Z",
     "start_time": "2019-01-10T09:20:55.752172Z"
    }
   },
   "outputs": [],
   "source": [
    "dat = {'N': X_train.shape[0], 'M': X_train.shape[1], 'X': X_train, 'y': y_train}"
   ]
  },
  {
   "cell_type": "markdown",
   "metadata": {},
   "source": [
    "## モデルの定義"
   ]
  },
  {
   "cell_type": "code",
   "execution_count": 12,
   "metadata": {
    "ExecuteTime": {
     "end_time": "2019-01-10T09:20:57.258786Z",
     "start_time": "2019-01-10T09:20:57.248041Z"
    }
   },
   "outputs": [],
   "source": [
    "code = \"\"\"\n",
    "        \n",
    "        data {\n",
    "            // N :データの個数\n",
    "            int<lower=0> N;\n",
    "            \n",
    "            // 特徴量数\n",
    "            int<lower=0> M;\n",
    "            \n",
    "            //　X:N*M行列の訓練データ\n",
    "            matrix[N, M] X;\n",
    "            \n",
    "            //　教師データ\n",
    "            int<lower=0, upper=1> y[N];\n",
    "            \n",
    "        } \n",
    "        \n",
    "        //確率分布のパラメータなど、推定した変数の宣言を行う\n",
    "        parameters {\n",
    "            //　 切片\n",
    "            real beta0;\n",
    "            \n",
    "            //回帰係数\n",
    "            vector[M] beta; \n",
    "            \n",
    "        } \n",
    "        \n",
    "        //統計モデルの宣言\n",
    "        model {\n",
    "            for (i in 1:N)\n",
    "                // dot_product（x, y）:x,yの内積を計算\n",
    "                // inv_logit(y):標準のシグモイド関数\n",
    "                // * y ~ bernoulli(theta):事後分布を計算\n",
    "                y[i] ~ bernoulli(inv_logit (beta0 + dot_product(X[i] , beta)));\n",
    "        }\n",
    "        \n",
    "        \"\"\""
   ]
  },
  {
   "cell_type": "markdown",
   "metadata": {},
   "source": [
    "## モデルのコンパイル"
   ]
  },
  {
   "cell_type": "code",
   "execution_count": 13,
   "metadata": {
    "ExecuteTime": {
     "end_time": "2019-01-10T09:22:00.973041Z",
     "start_time": "2019-01-10T09:20:58.314132Z"
    }
   },
   "outputs": [
    {
     "name": "stderr",
     "output_type": "stream",
     "text": [
      "INFO:pystan:COMPILING THE C++ CODE FOR MODEL anon_model_5a9733cf72c1525777a606cc4f10e924 NOW.\n"
     ]
    },
    {
     "name": "stdout",
     "output_type": "stream",
     "text": [
      "CPU times: user 1.34 s, sys: 233 ms, total: 1.57 s\n",
      "Wall time: 1min 2s\n"
     ]
    }
   ],
   "source": [
    "# Build Stan model\n",
    "%time stm = StanModel(model_code=code)"
   ]
  },
  {
   "cell_type": "code",
   "execution_count": null,
   "metadata": {
    "ExecuteTime": {
     "start_time": "2019-01-10T09:20:58.761Z"
    }
   },
   "outputs": [],
   "source": [
    "n_itr = 3000\n",
    "n_warmup = 200\n",
    "chains = 2\n",
    "\n",
    "# サンプリングの実行\n",
    "%time fit = stm.sampling(data=dat, iter=n_itr, chains=chains, n_jobs=-1, warmup=n_warmup, algorithm=\"NUTS\", verbose=False)\n",
    "\n",
    "# サンプル列を抽出\n",
    "la    = fit.extract(permuted=True)  # return a dictionary of arrays\n",
    "# パラメーター名\n",
    "names = fit.model_pars \n",
    "# パラメーターの数\n",
    "n_param = np.sum([1 if len(x) == 0 else x[0] for x in fit.par_dims])"
   ]
  },
  {
   "cell_type": "code",
   "execution_count": null,
   "metadata": {
    "ExecuteTime": {
     "start_time": "2019-01-10T09:21:00.430Z"
    }
   },
   "outputs": [],
   "source": [
    "print(fit)"
   ]
  },
  {
   "cell_type": "code",
   "execution_count": null,
   "metadata": {
    "ExecuteTime": {
     "start_time": "2019-01-10T09:21:02.408Z"
    }
   },
   "outputs": [],
   "source": [
    "# 各パラメーターのEAP推定量リスト抽出\n",
    "mean_list = np.array(fit.summary()['summary'])[:,0]"
   ]
  },
  {
   "cell_type": "code",
   "execution_count": null,
   "metadata": {
    "ExecuteTime": {
     "start_time": "2019-01-10T09:21:02.559Z"
    }
   },
   "outputs": [],
   "source": [
    "# 各パラメーターのMAP推定量のリスト生成\n",
    "ddd = la['beta0']\n",
    "def find_MAP(data):\n",
    "    kde = gaussian_kde(data)\n",
    "    x_range = np.linspace(min(data), max(data), 501)\n",
    "    eval_kde = kde.evaluate(x_range)\n",
    "    #plt.plot(x_range, eval_kde)\n",
    "    return x_range[np.argmax(eval_kde)]\n",
    "\n",
    "MAP_list = []\n",
    "MAP_list.append(find_MAP(ddd))\n",
    "for i in range(n_param-1):\n",
    "    MAP_list.append(find_MAP(la['beta'][:,i]))"
   ]
  },
  {
   "cell_type": "code",
   "execution_count": null,
   "metadata": {
    "ExecuteTime": {
     "start_time": "2019-01-10T09:21:02.748Z"
    }
   },
   "outputs": [],
   "source": [
    "f, axes = plt.subplots(n_param, 2, figsize=(15, 4*n_param))\n",
    "cnt = 0\n",
    "for name in names:\n",
    "    dat = la[name]\n",
    "    if dat.ndim == 2:\n",
    "        for j in range(dat.shape[1]):\n",
    "            d = dat[:,j]\n",
    "            sns.distplot(d, hist=False, rug=True, ax=axes[cnt, 0])\n",
    "            sns.tsplot(d,   alpha=0.8, lw=.5, ax=axes[cnt, 1])\n",
    "            cnt += 1\n",
    "    else:\n",
    "        # Intercept\n",
    "        sns.distplot(dat, hist=False, rug=True, ax=axes[cnt, 0])\n",
    "        sns.tsplot(dat,   alpha=0.8, lw=.5, ax=axes[cnt, 1])\n",
    "        cnt += 1\n",
    "\n",
    "name_list = []\n",
    "for name in names:\n",
    "    if la[name].ndim == 2:\n",
    "        for i in range(dat.shape[1]):\n",
    "            name_list.append(\"{}{}\".format(name,i+1))\n",
    "    else:\n",
    "        name_list.append(name)\n",
    "\n",
    "for i in range(2):\n",
    "    for j, t in enumerate(name_list):\n",
    "        axes[j, i].set_title(t)\n",
    "plt.show()"
   ]
  },
  {
   "cell_type": "code",
   "execution_count": null,
   "metadata": {
    "ExecuteTime": {
     "start_time": "2019-01-10T09:21:02.934Z"
    }
   },
   "outputs": [],
   "source": [
    "# Likelihood\n",
    "f, axes = plt.subplots(1, 2, figsize=(15, 4))\n",
    "\n",
    "sns.distplot(la['lp__'], hist=False, rug=True, ax=axes[0])\n",
    "sns.tsplot(la['lp__'],   alpha=0.8, lw=.5, ax=axes[1])\n",
    "axes[0].set_title(\"Histgram of likelihood.\")\n",
    "axes[1].set_title(\"Traceplot of likelihood.\")\n",
    "plt.show()\n"
   ]
  },
  {
   "cell_type": "code",
   "execution_count": null,
   "metadata": {
    "ExecuteTime": {
     "start_time": "2019-01-10T09:21:03.234Z"
    }
   },
   "outputs": [],
   "source": [
    "# 推定したパラメータ値を代入して確率p_iを算出するための関数。\n",
    "def logis(x, beta):\n",
    "    assert len(beta) == 7\n",
    "    assert len(beta) == 7\n",
    "    if type(x) != 'np.array':\n",
    "        x = np.array(x)\n",
    "    tmp = [1]\n",
    "    tmp.extend(x)\n",
    "    x = tmp\n",
    "    return (1+np.exp(-np.dot(x, beta)))**(-1)\n",
    "\n",
    "# 設定された閾値で0 or 1を判定。デフォルト閾値は0.5\n",
    "def check_accuracy(data, target, param, threshold = 0.5):\n",
    "    ans_list = []\n",
    "    for i in range(len(data)):\n",
    "        idx = data.index[i]\n",
    "        res = logis(data.ix[idx], param)\n",
    "        ans = 1 if res > threshold else 0\n",
    "        ans_list.append(ans == target.ix[idx])\n",
    "\n",
    "    return np.mean(ans_list)\n",
    "\n",
    "\n",
    "param = mean_list[0:7]\n",
    "\n",
    "# 再代入した時の正答率\n",
    "print (u\"[train][EAP] Accuracy:{0:.5f}\".format(check_accuracy(X_train, y_train, param)))\n",
    "print (u\"[train][MAP] Accuracy:{0:.5f}\".format(check_accuracy(X_train, y_train, MAP_list)))\n",
    "\n",
    "# テストデータの正答率で汎化性能を見る\n",
    "print (\"[test][EAP] Accuracy:{0:.5f}\".format(check_accuracy(X_test, y_test, param)))\n",
    "print (\"[test][MAP] Accuracy:{0:.5f}\".format(check_accuracy(X_test, y_test, MAP_list)))"
   ]
  },
  {
   "cell_type": "code",
   "execution_count": null,
   "metadata": {},
   "outputs": [],
   "source": []
  },
  {
   "cell_type": "code",
   "execution_count": null,
   "metadata": {},
   "outputs": [],
   "source": []
  }
 ],
 "metadata": {
  "hide_input": false,
  "kernelspec": {
   "display_name": "Python 3",
   "language": "python",
   "name": "python3"
  },
  "language_info": {
   "codemirror_mode": {
    "name": "ipython",
    "version": 3
   },
   "file_extension": ".py",
   "mimetype": "text/x-python",
   "name": "python",
   "nbconvert_exporter": "python",
   "pygments_lexer": "ipython3",
   "version": "3.6.5"
  },
  "latex_envs": {
   "LaTeX_envs_menu_present": true,
   "autoclose": false,
   "autocomplete": true,
   "bibliofile": "biblio.bib",
   "cite_by": "apalike",
   "current_citInitial": 1,
   "eqLabelWithNumbers": true,
   "eqNumInitial": 1,
   "hotkeys": {
    "equation": "Ctrl-E",
    "itemize": "Ctrl-I"
   },
   "labels_anchors": false,
   "latex_user_defs": false,
   "report_style_numbering": false,
   "user_envs_cfg": false
  },
  "toc": {
   "base_numbering": 1,
   "nav_menu": {},
   "number_sections": true,
   "sideBar": true,
   "skip_h1_title": false,
   "title_cell": "Table of Contents",
   "title_sidebar": "Contents",
   "toc_cell": false,
   "toc_position": {},
   "toc_section_display": true,
   "toc_window_display": false
  }
 },
 "nbformat": 4,
 "nbformat_minor": 2
}

{
 "cells": [
  {
   "cell_type": "markdown",
   "metadata": {},
   "source": [
    "# 概要\n",
    "https://qiita.com/kenmatsu4/items/dd9593edf282d44168d3\n",
    "- Titanicdデータセットを使ってpystanの練習をする\n",
    "- ロジスティック回帰を行う\n",
    "- y =  ax_1 + bx_2 + .......\n",
    "\n",
    "## 求めたいもの\n",
    "- 切片/ 係数ベクトル"
   ]
  },
  {
   "cell_type": "markdown",
   "metadata": {},
   "source": [
    "# ライブラリ準備"
   ]
  },
  {
   "cell_type": "code",
   "execution_count": 5,
   "metadata": {
    "ExecuteTime": {
     "end_time": "2019-01-10T08:34:00.853342Z",
     "start_time": "2019-01-10T08:34:00.828067Z"
    }
   },
   "outputs": [],
   "source": [
    "import numpy as np\n",
    "import pandas as pd\n",
    "import matplotlib.pyplot as plt\n",
    "import japanize_matplotlib \n",
    "plt.style.use(\"ggplot\")\n",
    "%matplotlib inline\n",
    "%config InlineBackend.figure_format = 'retina'\n",
    "plt.rcParams['axes.labelsize'] = 14\n",
    "plt.rcParams['xtick.labelsize'] = 12\n",
    "plt.rcParams['ytick.labelsize'] = 12\n",
    "from matplotlib import animation as ani\n",
    "import matplotlib.cm as cm\n",
    "import seaborn as sns\n",
    "\n",
    "from tabulate import tabulate\n",
    "from time import time\n",
    "\n",
    "import pystan\n",
    "from pystan import StanModel\n",
    "\n",
    "from sklearn.model_selection import train_test_split\n",
    "from scipy.stats import gaussian_kde\n",
    "\n",
    "# 設定\n",
    "import warnings\n",
    "warnings.filterwarnings('ignore') # warningが出ないように設定\n",
    "pd.set_option(\"display.max_rows\", None) # pandasの表示上限をなくす\n",
    "pd.set_option(\"display.max_columns\", None) # pandasの表示上限をなくす"
   ]
  },
  {
   "cell_type": "markdown",
   "metadata": {},
   "source": [
    "# データ"
   ]
  },
  {
   "cell_type": "markdown",
   "metadata": {},
   "source": [
    "## 準備"
   ]
  },
  {
   "cell_type": "code",
   "execution_count": 4,
   "metadata": {
    "ExecuteTime": {
     "end_time": "2019-01-10T08:32:05.510159Z",
     "start_time": "2019-01-10T08:32:03.230638Z"
    },
    "scrolled": true
   },
   "outputs": [
    {
     "data": {
      "text/html": [
       "<div>\n",
       "<style scoped>\n",
       "    .dataframe tbody tr th:only-of-type {\n",
       "        vertical-align: middle;\n",
       "    }\n",
       "\n",
       "    .dataframe tbody tr th {\n",
       "        vertical-align: top;\n",
       "    }\n",
       "\n",
       "    .dataframe thead th {\n",
       "        text-align: right;\n",
       "    }\n",
       "</style>\n",
       "<table border=\"1\" class=\"dataframe\">\n",
       "  <thead>\n",
       "    <tr style=\"text-align: right;\">\n",
       "      <th></th>\n",
       "      <th>survived</th>\n",
       "      <th>pclass</th>\n",
       "      <th>sex</th>\n",
       "      <th>age</th>\n",
       "      <th>sibsp</th>\n",
       "      <th>parch</th>\n",
       "      <th>fare</th>\n",
       "      <th>embarked</th>\n",
       "      <th>class</th>\n",
       "      <th>who</th>\n",
       "      <th>adult_male</th>\n",
       "      <th>deck</th>\n",
       "      <th>embark_town</th>\n",
       "      <th>alone</th>\n",
       "    </tr>\n",
       "  </thead>\n",
       "  <tbody>\n",
       "    <tr>\n",
       "      <th>0</th>\n",
       "      <td>0</td>\n",
       "      <td>3</td>\n",
       "      <td>1</td>\n",
       "      <td>22.0</td>\n",
       "      <td>1</td>\n",
       "      <td>0</td>\n",
       "      <td>7.2500</td>\n",
       "      <td>1</td>\n",
       "      <td>3</td>\n",
       "      <td>1</td>\n",
       "      <td>1</td>\n",
       "      <td>0</td>\n",
       "      <td>3</td>\n",
       "      <td>1</td>\n",
       "    </tr>\n",
       "    <tr>\n",
       "      <th>1</th>\n",
       "      <td>1</td>\n",
       "      <td>1</td>\n",
       "      <td>0</td>\n",
       "      <td>38.0</td>\n",
       "      <td>1</td>\n",
       "      <td>0</td>\n",
       "      <td>71.2833</td>\n",
       "      <td>2</td>\n",
       "      <td>1</td>\n",
       "      <td>2</td>\n",
       "      <td>0</td>\n",
       "      <td>3</td>\n",
       "      <td>1</td>\n",
       "      <td>0</td>\n",
       "    </tr>\n",
       "    <tr>\n",
       "      <th>2</th>\n",
       "      <td>1</td>\n",
       "      <td>3</td>\n",
       "      <td>0</td>\n",
       "      <td>26.0</td>\n",
       "      <td>0</td>\n",
       "      <td>0</td>\n",
       "      <td>7.9250</td>\n",
       "      <td>1</td>\n",
       "      <td>3</td>\n",
       "      <td>2</td>\n",
       "      <td>0</td>\n",
       "      <td>0</td>\n",
       "      <td>3</td>\n",
       "      <td>0</td>\n",
       "    </tr>\n",
       "    <tr>\n",
       "      <th>3</th>\n",
       "      <td>1</td>\n",
       "      <td>1</td>\n",
       "      <td>0</td>\n",
       "      <td>35.0</td>\n",
       "      <td>1</td>\n",
       "      <td>0</td>\n",
       "      <td>53.1000</td>\n",
       "      <td>1</td>\n",
       "      <td>1</td>\n",
       "      <td>2</td>\n",
       "      <td>0</td>\n",
       "      <td>3</td>\n",
       "      <td>3</td>\n",
       "      <td>0</td>\n",
       "    </tr>\n",
       "    <tr>\n",
       "      <th>4</th>\n",
       "      <td>0</td>\n",
       "      <td>3</td>\n",
       "      <td>1</td>\n",
       "      <td>35.0</td>\n",
       "      <td>0</td>\n",
       "      <td>0</td>\n",
       "      <td>8.0500</td>\n",
       "      <td>1</td>\n",
       "      <td>3</td>\n",
       "      <td>1</td>\n",
       "      <td>1</td>\n",
       "      <td>0</td>\n",
       "      <td>3</td>\n",
       "      <td>1</td>\n",
       "    </tr>\n",
       "    <tr>\n",
       "      <th>5</th>\n",
       "      <td>0</td>\n",
       "      <td>3</td>\n",
       "      <td>1</td>\n",
       "      <td>28.0</td>\n",
       "      <td>0</td>\n",
       "      <td>0</td>\n",
       "      <td>8.4583</td>\n",
       "      <td>3</td>\n",
       "      <td>3</td>\n",
       "      <td>1</td>\n",
       "      <td>1</td>\n",
       "      <td>0</td>\n",
       "      <td>2</td>\n",
       "      <td>1</td>\n",
       "    </tr>\n",
       "    <tr>\n",
       "      <th>6</th>\n",
       "      <td>0</td>\n",
       "      <td>1</td>\n",
       "      <td>1</td>\n",
       "      <td>54.0</td>\n",
       "      <td>0</td>\n",
       "      <td>0</td>\n",
       "      <td>51.8625</td>\n",
       "      <td>1</td>\n",
       "      <td>1</td>\n",
       "      <td>1</td>\n",
       "      <td>1</td>\n",
       "      <td>5</td>\n",
       "      <td>3</td>\n",
       "      <td>1</td>\n",
       "    </tr>\n",
       "    <tr>\n",
       "      <th>7</th>\n",
       "      <td>0</td>\n",
       "      <td>3</td>\n",
       "      <td>1</td>\n",
       "      <td>2.0</td>\n",
       "      <td>3</td>\n",
       "      <td>1</td>\n",
       "      <td>21.0750</td>\n",
       "      <td>1</td>\n",
       "      <td>3</td>\n",
       "      <td>0</td>\n",
       "      <td>0</td>\n",
       "      <td>0</td>\n",
       "      <td>3</td>\n",
       "      <td>0</td>\n",
       "    </tr>\n",
       "    <tr>\n",
       "      <th>8</th>\n",
       "      <td>1</td>\n",
       "      <td>3</td>\n",
       "      <td>0</td>\n",
       "      <td>27.0</td>\n",
       "      <td>0</td>\n",
       "      <td>2</td>\n",
       "      <td>11.1333</td>\n",
       "      <td>1</td>\n",
       "      <td>3</td>\n",
       "      <td>2</td>\n",
       "      <td>0</td>\n",
       "      <td>0</td>\n",
       "      <td>3</td>\n",
       "      <td>0</td>\n",
       "    </tr>\n",
       "    <tr>\n",
       "      <th>9</th>\n",
       "      <td>1</td>\n",
       "      <td>2</td>\n",
       "      <td>0</td>\n",
       "      <td>14.0</td>\n",
       "      <td>1</td>\n",
       "      <td>0</td>\n",
       "      <td>30.0708</td>\n",
       "      <td>2</td>\n",
       "      <td>2</td>\n",
       "      <td>0</td>\n",
       "      <td>0</td>\n",
       "      <td>0</td>\n",
       "      <td>1</td>\n",
       "      <td>0</td>\n",
       "    </tr>\n",
       "  </tbody>\n",
       "</table>\n",
       "</div>"
      ],
      "text/plain": [
       "   survived  pclass  sex   age  sibsp  parch     fare  embarked  class  who  \\\n",
       "0         0       3    1  22.0      1      0   7.2500         1      3    1   \n",
       "1         1       1    0  38.0      1      0  71.2833         2      1    2   \n",
       "2         1       3    0  26.0      0      0   7.9250         1      3    2   \n",
       "3         1       1    0  35.0      1      0  53.1000         1      1    2   \n",
       "4         0       3    1  35.0      0      0   8.0500         1      3    1   \n",
       "5         0       3    1  28.0      0      0   8.4583         3      3    1   \n",
       "6         0       1    1  54.0      0      0  51.8625         1      1    1   \n",
       "7         0       3    1   2.0      3      1  21.0750         1      3    0   \n",
       "8         1       3    0  27.0      0      2  11.1333         1      3    2   \n",
       "9         1       2    0  14.0      1      0  30.0708         2      2    0   \n",
       "\n",
       "   adult_male  deck  embark_town  alone  \n",
       "0           1     0            3      1  \n",
       "1           0     3            1      0  \n",
       "2           0     0            3      0  \n",
       "3           0     3            3      0  \n",
       "4           1     0            3      1  \n",
       "5           1     0            2      1  \n",
       "6           1     5            3      1  \n",
       "7           0     0            3      0  \n",
       "8           0     0            3      0  \n",
       "9           0     0            1      0  "
      ]
     },
     "execution_count": 4,
     "metadata": {},
     "output_type": "execute_result"
    }
   ],
   "source": [
    "titanic = pd.read_table(\"https://raw.githubusercontent.com/matsuken92/Qiita_Contents/master/PyStan-Titanic/data/titanic_converted.csv\",\n",
    "              sep=\",\", header=0)\n",
    "titanic.head(10)"
   ]
  },
  {
   "cell_type": "code",
   "execution_count": 25,
   "metadata": {
    "ExecuteTime": {
     "end_time": "2019-01-10T08:50:40.911781Z",
     "start_time": "2019-01-10T08:50:38.590663Z"
    }
   },
   "outputs": [
    {
     "data": {
      "text/plain": [
       "<matplotlib.axes._subplots.AxesSubplot at 0x11d852828>"
      ]
     },
     "execution_count": 25,
     "metadata": {},
     "output_type": "execute_result"
    },
    {
     "data": {
      "image/png": "[encoded data removed]",
      "text/plain": [
       "<Figure size 1800x720 with 2 Axes>"
      ]
     },
     "metadata": {
      "image/png": {
       "height": 658,
       "width": 1471
      }
     },
     "output_type": "display_data"
    }
   ],
   "source": [
    "msno.matrix(titanic)"
   ]
  },
  {
   "cell_type": "markdown",
   "metadata": {},
   "source": [
    "## 分割"
   ]
  },
  {
   "cell_type": "code",
   "execution_count": 19,
   "metadata": {
    "ExecuteTime": {
     "end_time": "2019-01-10T08:37:31.742771Z",
     "start_time": "2019-01-10T08:37:31.709183Z"
    }
   },
   "outputs": [],
   "source": [
    "target = titanic.survived\n",
    "data = titanic.iloc[:, 1:]\n",
    "\n",
    "# 訓練データ(80%), テストデータ(20%)に分割する\n",
    "X_train, X_test, y_train, y_test = train_test_split(data, target, test_size=0.2, random_state=0)"
   ]
  },
  {
   "cell_type": "markdown",
   "metadata": {},
   "source": [
    "# stanで実行"
   ]
  },
  {
   "cell_type": "markdown",
   "metadata": {},
   "source": [
    "## データの定義"
   ]
  },
  {
   "cell_type": "code",
   "execution_count": 20,
   "metadata": {
    "ExecuteTime": {
     "end_time": "2019-01-10T08:41:02.120627Z",
     "start_time": "2019-01-10T08:41:02.104927Z"
    }
   },
   "outputs": [],
   "source": [
    "dat = {'N': X_train.shape[0], 'M': X_train.shape[1], 'X': X_train, 'y': y_train}"
   ]
  },
  {
   "cell_type": "markdown",
   "metadata": {},
   "source": [
    "## モデルの定義"
   ]
  },
  {
   "cell_type": "code",
   "execution_count": 21,
   "metadata": {
    "ExecuteTime": {
     "end_time": "2019-01-10T08:41:03.947877Z",
     "start_time": "2019-01-10T08:41:03.941388Z"
    }
   },
   "outputs": [],
   "source": [
    "code = \"\"\"\n",
    "        \n",
    "        data {\n",
    "            // N :データの個数\n",
    "            int<lower=0> N;\n",
    "            \n",
    "            // 特徴量数\n",
    "            int<lower=0> M;\n",
    "            \n",
    "            //　X:N*M行列の訓練データ\n",
    "            matrix[N, M] X;\n",
    "            \n",
    "            //　教師データ\n",
    "            int<lower=0, upper=1> y[N];\n",
    "            \n",
    "        } \n",
    "        \n",
    "        //確率分布のパラメータなど、推定した変数の宣言を行う\n",
    "        parameters {\n",
    "            //　 切片\n",
    "            real beta0;\n",
    "            \n",
    "            //回帰係数\n",
    "            vector[M] beta; \n",
    "            \n",
    "        } \n",
    "        \n",
    "        //統計モデルの宣言\n",
    "        model {\n",
    "            for (i in 1:N)\n",
    "                // dot_product（x, y）:x,yの内積を計算\n",
    "                // inv_logit(y):標準のシグモイド関数\n",
    "                // * y ~ bernoulli(theta):事後分布を計算\n",
    "                y[i] ~ bernoulli(inv_logit (beta0 + dot_product(X[i] , beta)));\n",
    "        }\n",
    "        \n",
    "        \"\"\""
   ]
  },
  {
   "cell_type": "markdown",
   "metadata": {},
   "source": [
    "## モデルのコンパイル"
   ]
  },
  {
   "cell_type": "code",
   "execution_count": 22,
   "metadata": {
    "ExecuteTime": {
     "end_time": "2019-01-10T08:42:35.288113Z",
     "start_time": "2019-01-10T08:41:35.099194Z"
    }
   },
   "outputs": [
    {
     "name": "stderr",
     "output_type": "stream",
     "text": [
      "INFO:pystan:COMPILING THE C++ CODE FOR MODEL anon_model_b12e3f2368679a0c562b9f74618b2f82 NOW.\n"
     ]
    },
    {
     "name": "stdout",
     "output_type": "stream",
     "text": [
      "CPU times: user 1.44 s, sys: 412 ms, total: 1.85 s\n",
      "Wall time: 1min\n"
     ]
    }
   ],
   "source": [
    "# Build Stan model\n",
    "%time stm = StanModel(model_code=code)"
   ]
  },
  {
   "cell_type": "code",
   "execution_count": 23,
   "metadata": {
    "ExecuteTime": {
     "end_time": "2019-01-10T08:49:30.063116Z",
     "start_time": "2019-01-10T08:42:35.295711Z"
    },
    "collapsed": true
   },
   "outputs": [
    {
     "name": "stderr",
     "output_type": "stream",
     "text": [
      "WARNING:pystan:n_eff / iter for parameter beta0 is 0.00018362451515090136!\n",
      "WARNING:pystan:n_eff / iter for parameter beta[1] is 0.00018014372845502518!\n",
      "WARNING:pystan:n_eff / iter for parameter beta[2] is 0.0001791243419406859!\n",
      "WARNING:pystan:n_eff / iter for parameter beta[3] is 0.00020224497832973084!\n",
      "WARNING:pystan:n_eff / iter for parameter beta[4] is 0.000318373890593277!\n",
      "WARNING:pystan:n_eff / iter for parameter beta[5] is 0.00018032336538791402!\n",
      "WARNING:pystan:n_eff / iter for parameter beta[6] is 0.00030439963493534216!\n",
      "WARNING:pystan:n_eff / iter for parameter beta[7] is 0.00021154096170712732!\n",
      "WARNING:pystan:n_eff / iter for parameter beta[8] is 0.00017950727516022027!\n",
      "WARNING:pystan:n_eff / iter for parameter beta[9] is 0.00033596677947765244!\n",
      "WARNING:pystan:n_eff / iter for parameter beta[10] is 0.0005225898678740611!\n",
      "WARNING:pystan:n_eff / iter for parameter beta[11] is 0.00017875604662635845!\n",
      "WARNING:pystan:n_eff / iter for parameter beta[12] is 0.0005849199210167225!\n",
      "WARNING:pystan:n_eff / iter for parameter beta[13] is 0.00019986429179219648!\n",
      "WARNING:pystan:n_eff / iter for parameter lp__ is 0.00020007421137271944!\n",
      "WARNING:pystan:n_eff / iter below 0.001 indicates that the effective sample size has likely been overestimated\n",
      "WARNING:pystan:Rhat for parameter beta0 is 7.711638295795929!\n",
      "WARNING:pystan:Rhat for parameter beta[1] is 14.557177340997853!\n",
      "WARNING:pystan:Rhat for parameter beta[2] is 18.872428092054403!\n",
      "WARNING:pystan:Rhat for parameter beta[3] is 6.239883951845977!\n",
      "WARNING:pystan:Rhat for parameter beta[4] is 2.023501069731498!\n",
      "WARNING:pystan:Rhat for parameter beta[5] is 9.761470459913054!\n",
      "WARNING:pystan:Rhat for parameter beta[6] is 2.4590621463796953!\n",
      "WARNING:pystan:Rhat for parameter beta[7] is 3.26188777643369!\n",
      "WARNING:pystan:Rhat for parameter beta[8] is 14.137541234684395!\n",
      "WARNING:pystan:Rhat for parameter beta[9] is 2.0574199257837678!\n",
      "WARNING:pystan:Rhat for parameter beta[10] is 1.7592057296883363!\n",
      "WARNING:pystan:Rhat for parameter beta[11] is 31.797222222582445!\n",
      "WARNING:pystan:Rhat for parameter beta[12] is 1.750657589692381!\n",
      "WARNING:pystan:Rhat for parameter beta[13] is 3.8120017978286196!\n",
      "WARNING:pystan:Rhat for parameter lp__ is 6.044834289418071!\n",
      "WARNING:pystan:Rhat above 1.1 or below 0.9 indicates that the chains very likely have not mixed\n",
      "WARNING:pystan:4689 of 5600 iterations ended with a divergence (83.73214285714286%).\n",
      "WARNING:pystan:Try running with adapt_delta larger than 0.8 to remove the divergences.\n",
      "WARNING:pystan:907 of 5600 iterations saturated the maximum tree depth of 10 (16.196428571428573%)\n",
      "WARNING:pystan:Run again with max_treedepth larger than 10 to avoid saturation\n",
      "WARNING:pystan:Chain 1: E-BFMI = 5.412333251019572e-05\n",
      "WARNING:pystan:Chain 2: E-BFMI = 0.00026838558447308885\n",
      "WARNING:pystan:E-BFMI below 0.2 indicates you may need to reparameterize your model\n"
     ]
    },
    {
     "name": "stdout",
     "output_type": "stream",
     "text": [
      "CPU times: user 439 ms, sys: 128 ms, total: 567 ms\n",
      "Wall time: 6min 54s\n"
     ]
    }
   ],
   "source": [
    "n_itr = 3000\n",
    "n_warmup = 200\n",
    "chains = 2\n",
    "\n",
    "# サンプリングの実行\n",
    "%time fit = stm.sampling(data=dat, iter=n_itr, chains=chains, n_jobs=-1, warmup=n_warmup, algorithm=\"NUTS\", verbose=False)\n",
    "\n",
    "# サンプル列を抽出\n",
    "la    = fit.extract(permuted=True)  # return a dictionary of arrays\n",
    "# パラメーター名\n",
    "names = fit.model_pars \n",
    "# パラメーターの数\n",
    "n_param = np.sum([1 if len(x) == 0 else x[0] for x in fit.par_dims])"
   ]
  },
  {
   "cell_type": "code",
   "execution_count": 24,
   "metadata": {
    "ExecuteTime": {
     "end_time": "2019-01-10T08:49:30.184284Z",
     "start_time": "2019-01-10T08:49:30.068218Z"
    }
   },
   "outputs": [
    {
     "name": "stdout",
     "output_type": "stream",
     "text": [
      "Inference for Stan model: anon_model_b12e3f2368679a0c562b9f74618b2f82.\n",
      "2 chains, each with iter=3000; warmup=200; thin=1; \n",
      "post-warmup draws per chain=2800, total post-warmup draws=5600.\n",
      "\n",
      "           mean se_mean     sd   2.5%    25%    50%    75%  97.5%  n_eff   Rhat\n",
      "beta0      0.39    0.54   0.55  -0.15  -0.15   0.34   0.83   1.23      1   7.71\n",
      "beta[1]   -0.41    1.35   1.36  -1.91  -1.89  -0.17   0.94   0.95      1  14.56\n",
      "beta[2]     0.2    0.73   0.73  -0.69   -0.5   0.27   0.92   0.93      1  18.87\n",
      "beta[3]   -0.51    0.29   0.31  -0.85   -0.8  -0.58  -0.26  -0.01      1   6.24\n",
      "beta[4]   -0.84    0.28   0.37  -1.34  -1.33  -0.58  -0.58  -0.36      2   2.02\n",
      "beta[5]   -0.52    0.63   0.63  -1.15  -1.15   -0.7   0.12   0.25      1   9.76\n",
      "beta[6]     0.2    0.07   0.09 4.8e-3   0.18   0.23   0.26   0.27      2   2.46\n",
      "beta[7]   -1.37    0.58   0.63  -1.94  -1.93  -1.49  -1.05   0.06      1   3.26\n",
      "beta[8]   -0.08    1.46   1.46  -1.54  -1.54  -0.25    1.3   1.84      1  14.14\n",
      "beta[9]   -0.11    0.17   0.23  -0.27  -0.27  -0.19   -0.1   0.51      2   2.06\n",
      "beta[10]   0.26    0.19   0.33   -0.3   0.07   0.07    0.7   0.71      3   1.76\n",
      "beta[11]  -0.36     0.8    0.8  -1.16  -1.16  -0.46   0.46    0.5      1   31.8\n",
      "beta[12]  -0.69    0.23   0.42  -1.25  -1.24  -0.47  -0.46   0.03      3   1.75\n",
      "beta[13]   -1.3    0.49   0.52  -1.79  -1.78  -1.62  -0.65  -0.65      1   3.81\n",
      "lp__      -3752  1995.6 2112.4  -6073  -5751  -4196  -2100 -316.8      1   6.04\n",
      "\n",
      "Samples were drawn using NUTS at Thu Jan 10 17:49:29 2019.\n",
      "For each parameter, n_eff is a crude measure of effective sample size,\n",
      "and Rhat is the potential scale reduction factor on split chains (at \n",
      "convergence, Rhat=1).\n"
     ]
    }
   ],
   "source": [
    "print(fit)"
   ]
  },
  {
   "cell_type": "code",
   "execution_count": 26,
   "metadata": {
    "ExecuteTime": {
     "end_time": "2019-01-10T08:55:03.457738Z",
     "start_time": "2019-01-10T08:55:03.391229Z"
    }
   },
   "outputs": [],
   "source": [
    "# 各パラメーターのEAP推定量リスト抽出\n",
    "mean_list = np.array(fit.summary()['summary'])[:,0]"
   ]
  },
  {
   "cell_type": "code",
   "execution_count": 27,
   "metadata": {
    "ExecuteTime": {
     "end_time": "2019-01-10T08:55:11.986829Z",
     "start_time": "2019-01-10T08:55:11.376797Z"
    }
   },
   "outputs": [],
   "source": [
    "# 各パラメーターのMAP推定量のリスト生成\n",
    "ddd = la['beta0']\n",
    "def find_MAP(data):\n",
    "    kde = gaussian_kde(data)\n",
    "    x_range = np.linspace(min(data), max(data), 501)\n",
    "    eval_kde = kde.evaluate(x_range)\n",
    "    #plt.plot(x_range, eval_kde)\n",
    "    return x_range[np.argmax(eval_kde)]\n",
    "\n",
    "MAP_list = []\n",
    "MAP_list.append(find_MAP(ddd))\n",
    "for i in range(n_param-1):\n",
    "    MAP_list.append(find_MAP(la['beta'][:,i]))"
   ]
  },
  {
   "cell_type": "code",
   "execution_count": null,
   "metadata": {
    "ExecuteTime": {
     "start_time": "2019-01-10T08:55:20.922Z"
    }
   },
   "outputs": [],
   "source": [
    "f, axes = plt.subplots(n_param, 2, figsize=(15, 4*n_param))\n",
    "cnt = 0\n",
    "for name in names:\n",
    "    dat = la[name]\n",
    "    if dat.ndim == 2:\n",
    "        for j in range(dat.shape[1]):\n",
    "            d = dat[:,j]\n",
    "            sns.distplot(d, hist=False, rug=True, ax=axes[cnt, 0])\n",
    "            sns.tsplot(d,   alpha=0.8, lw=.5, ax=axes[cnt, 1])\n",
    "            cnt += 1\n",
    "    else:\n",
    "        # Intercept\n",
    "        sns.distplot(dat, hist=False, rug=True, ax=axes[cnt, 0])\n",
    "        sns.tsplot(dat,   alpha=0.8, lw=.5, ax=axes[cnt, 1])\n",
    "        cnt += 1\n",
    "\n",
    "name_list = []\n",
    "for name in names:\n",
    "    if la[name].ndim == 2:\n",
    "        for i in range(dat.shape[1]):\n",
    "            name_list.append(\"{}{}\".format(name,i+1))\n",
    "    else:\n",
    "        name_list.append(name)\n",
    "\n",
    "for i in range(2):\n",
    "    for j, t in enumerate(name_list):\n",
    "        axes[j, i].set_title(t)\n",
    "plt.show()"
   ]
  },
  {
   "cell_type": "code",
   "execution_count": null,
   "metadata": {
    "ExecuteTime": {
     "start_time": "2019-01-10T08:55:33.178Z"
    }
   },
   "outputs": [],
   "source": [
    "# Likelihood\n",
    "f, axes = plt.subplots(1, 2, figsize=(15, 4))\n",
    "\n",
    "sns.distplot(la['lp__'], hist=False, rug=True, ax=axes[0])\n",
    "sns.tsplot(la['lp__'],   alpha=0.8, lw=.5, ax=axes[1])\n",
    "axes[0].set_title(\"Histgram of likelihood.\")\n",
    "axes[1].set_title(\"Traceplot of likelihood.\")\n",
    "plt.show()\n"
   ]
  },
  {
   "cell_type": "code",
   "execution_count": null,
   "metadata": {
    "ExecuteTime": {
     "start_time": "2019-01-10T08:55:48.163Z"
    }
   },
   "outputs": [],
   "source": [
    "# 推定したパラメータ値を代入して確率p_iを算出するための関数。\n",
    "def logis(x, beta):\n",
    "    assert len(beta) == 7\n",
    "    assert len(beta) == 7\n",
    "    if type(x) != 'np.array':\n",
    "        x = np.array(x)\n",
    "    tmp = [1]\n",
    "    tmp.extend(x)\n",
    "    x = tmp\n",
    "    return (1+np.exp(-np.dot(x, beta)))**(-1)\n",
    "\n",
    "# 設定された閾値で0 or 1を判定。デフォルト閾値は0.5\n",
    "def check_accuracy(data, target, param, threshold = 0.5):\n",
    "    ans_list = []\n",
    "    for i in range(len(data)):\n",
    "        idx = data.index[i]\n",
    "        res = logis(data.ix[idx], param)\n",
    "        ans = 1 if res > threshold else 0\n",
    "        ans_list.append(ans == target.ix[idx])\n",
    "\n",
    "    return np.mean(ans_list)\n",
    "\n",
    "\n",
    "param = mean_list[0:7]\n",
    "\n",
    "# 再代入した時の正答率\n",
    "print u\"[train][EAP] Accuracy:{0:.5f}\".format(check_accuracy(X_train, y_train, param))\n",
    "print u\"[train][MAP] Accuracy:{0:.5f}\".format(check_accuracy(X_train, y_train, MAP_list))\n",
    "\n",
    "# テストデータの正答率で汎化性能を見る\n",
    "print \"[test][EAP] Accuracy:{0:.5f}\".format(check_accuracy(X_test, y_test, param))\n",
    "print \"[test][MAP] Accuracy:{0:.5f}\".format(check_accuracy(X_test, y_test, MAP_list))"
   ]
  }
 ],
 "metadata": {
  "hide_input": false,
  "kernelspec": {
   "display_name": "Python 3",
   "language": "python",
   "name": "python3"
  },
  "language_info": {
   "codemirror_mode": {
    "name": "ipython",
    "version": 3
   },
   "file_extension": ".py",
   "mimetype": "text/x-python",
   "name": "python",
   "nbconvert_exporter": "python",
   "pygments_lexer": "ipython3",
   "version": "3.6.5"
  },
  "latex_envs": {
   "LaTeX_envs_menu_present": true,
   "autoclose": false,
   "autocomplete": true,
   "bibliofile": "biblio.bib",
   "cite_by": "apalike",
   "current_citInitial": 1,
   "eqLabelWithNumbers": true,
   "eqNumInitial": 1,
   "hotkeys": {
    "equation": "Ctrl-E",
    "itemize": "Ctrl-I"
   },
   "labels_anchors": false,
   "latex_user_defs": false,
   "report_style_numbering": false,
   "user_envs_cfg": false
  },
  "toc": {
   "base_numbering": 1,
   "nav_menu": {},
   "number_sections": true,
   "sideBar": true,
   "skip_h1_title": false,
   "title_cell": "Table of Contents",
   "title_sidebar": "Contents",
   "toc_cell": false,
   "toc_position": {},
   "toc_section_display": true,
   "toc_window_display": false
  }
 },
 "nbformat": 4,
 "nbformat_minor": 2
}

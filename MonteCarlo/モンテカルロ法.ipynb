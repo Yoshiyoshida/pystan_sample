{
 "cells": [
  {
   "cell_type": "markdown",
   "metadata": {},
   "source": [
    "# 概要\n",
    "## モンテカルロ方とは\n",
    "- 乱数を使った数値計算手法\n",
    "- 領域の変数を確率から求めることができる\n",
    "\n",
    "### 例\n",
    "- 円の面積\n",
    "- π/4 = 0.785(ドットが領域に入る確率)\n",
    "- 以上からπが推測できる\n",
    "\n",
    "## モンテカルロステップ(MCS)\n",
    "- 乱数をとる回数\n",
    "- 点数を増えていくと確率的に解析解に漸近していく\n",
    "- 必ず解析解に近ずくわけではないことに注意する"
   ]
  },
  {
   "cell_type": "markdown",
   "metadata": {},
   "source": [
    "# ライブラリインポート"
   ]
  },
  {
   "cell_type": "code",
   "execution_count": 1,
   "metadata": {
    "ExecuteTime": {
     "end_time": "2019-01-09T10:21:13.061191Z",
     "start_time": "2019-01-09T10:21:12.198007Z"
    }
   },
   "outputs": [
    {
     "name": "stderr",
     "output_type": "stream",
     "text": [
      "/Users/yoshidayuusei/.pyenv/versions/3.6.5/lib/python3.6/site-packages/IPython/html.py:14: ShimWarning: The `IPython.html` package has been deprecated since IPython 4.0. You should import from `notebook` instead. `IPython.html.widgets` has moved to `ipywidgets`.\n",
      "  \"`IPython.html.widgets` has moved to `ipywidgets`.\", ShimWarning)\n"
     ]
    }
   ],
   "source": [
    "import numpy as np\n",
    "import pandas as pd\n",
    "import matplotlib.pyplot as plt\n",
    "import japanize_matplotlib \n",
    "from IPython.html.widgets import  interact\n",
    "plt.style.use(\"ggplot\")\n",
    "%matplotlib inline\n",
    "%config InlineBackend.figure_format = 'retina'\n",
    "plt.rcParams['axes.labelsize'] = 14\n",
    "plt.rcParams['xtick.labelsize'] = 12\n",
    "plt.rcParams['ytick.labelsize'] = 12\n",
    "\n",
    "import warnings\n",
    "warnings.filterwarnings('ignore') # warningが出ないように設定\n",
    "pd.set_option(\"display.max_rows\", None) # pandasの表示上限をなくす\n",
    "pd.set_option(\"display.max_columns\", None) # pandasの表示上限をなくす "
   ]
  },
  {
   "cell_type": "markdown",
   "metadata": {},
   "source": [
    "# サンプル確認"
   ]
  },
  {
   "cell_type": "markdown",
   "metadata": {},
   "source": [
    "## データを生成"
   ]
  },
  {
   "cell_type": "code",
   "execution_count": 2,
   "metadata": {
    "ExecuteTime": {
     "end_time": "2019-01-09T10:21:13.067305Z",
     "start_time": "2019-01-09T10:21:13.063444Z"
    }
   },
   "outputs": [],
   "source": [
    "# 乱数の固定\n",
    "np.random.seed(123)"
   ]
  },
  {
   "cell_type": "code",
   "execution_count": 3,
   "metadata": {
    "ExecuteTime": {
     "end_time": "2019-01-09T10:21:13.072630Z",
     "start_time": "2019-01-09T10:21:13.069282Z"
    }
   },
   "outputs": [],
   "source": [
    "# 乱数の個数\n",
    "NMC = 100"
   ]
  },
  {
   "cell_type": "code",
   "execution_count": 4,
   "metadata": {
    "ExecuteTime": {
     "end_time": "2019-01-09T10:21:13.082425Z",
     "start_time": "2019-01-09T10:21:13.075631Z"
    }
   },
   "outputs": [],
   "source": [
    "# x, y座標の乱数の生成\n",
    "xmc = np.random.rand(NMC)\n",
    "ymc = np.random.rand(NMC)"
   ]
  },
  {
   "cell_type": "markdown",
   "metadata": {},
   "source": [
    "## 確率を計算"
   ]
  },
  {
   "cell_type": "code",
   "execution_count": 5,
   "metadata": {
    "ExecuteTime": {
     "end_time": "2019-01-09T10:21:13.090763Z",
     "start_time": "2019-01-09T10:21:13.084735Z"
    }
   },
   "outputs": [],
   "source": [
    "# 原点からの座標の距離\n",
    "r = (xmc**2 + ymc**2) ** 0.5"
   ]
  },
  {
   "cell_type": "code",
   "execution_count": 6,
   "metadata": {
    "ExecuteTime": {
     "end_time": "2019-01-09T10:21:13.100552Z",
     "start_time": "2019-01-09T10:21:13.094429Z"
    }
   },
   "outputs": [],
   "source": [
    "# 領域に入ったか入っていないかを判定\n",
    "accept = np.where(r<=1, 1, 0)"
   ]
  },
  {
   "cell_type": "code",
   "execution_count": 7,
   "metadata": {
    "ExecuteTime": {
     "end_time": "2019-01-09T10:21:13.110434Z",
     "start_time": "2019-01-09T10:21:13.103664Z"
    }
   },
   "outputs": [],
   "source": [
    "# 指定した領域に入ったかの確率\n",
    "accept_ratio = np.sum(accept) / NMC"
   ]
  },
  {
   "cell_type": "code",
   "execution_count": 8,
   "metadata": {
    "ExecuteTime": {
     "end_time": "2019-01-09T10:21:13.123023Z",
     "start_time": "2019-01-09T10:21:13.112925Z"
    }
   },
   "outputs": [
    {
     "data": {
      "text/plain": [
       "0.82"
      ]
     },
     "execution_count": 8,
     "metadata": {},
     "output_type": "execute_result"
    }
   ],
   "source": [
    "accept_ratio"
   ]
  },
  {
   "cell_type": "markdown",
   "metadata": {},
   "source": [
    "# 可視化する"
   ]
  },
  {
   "cell_type": "markdown",
   "metadata": {},
   "source": [
    "## データ準備"
   ]
  },
  {
   "cell_type": "code",
   "execution_count": 9,
   "metadata": {
    "ExecuteTime": {
     "end_time": "2019-01-09T10:21:13.130483Z",
     "start_time": "2019-01-09T10:21:13.125475Z"
    }
   },
   "outputs": [],
   "source": [
    "np.random.seed(123)\n",
    "NMC = 1000\n",
    "xmc = np.random.rand(NMC)\n",
    "ymc = np.random.rand(NMC)"
   ]
  },
  {
   "cell_type": "markdown",
   "metadata": {},
   "source": [
    "## 可視化関数定義"
   ]
  },
  {
   "cell_type": "code",
   "execution_count": 10,
   "metadata": {
    "ExecuteTime": {
     "end_time": "2019-01-09T10:21:13.560174Z",
     "start_time": "2019-01-09T10:21:13.133139Z"
    }
   },
   "outputs": [
    {
     "data": {
      "application/vnd.jupyter.widget-view+json": {
       "model_id": "c3dc7efd4f554f99a809faed9490fbe3",
       "version_major": 2,
       "version_minor": 0
      },
      "text/plain": [
       "interactive(children=(IntSlider(value=0, description='mcs', max=1000), Output()), _dom_classes=('widget-intera…"
      ]
     },
     "metadata": {},
     "output_type": "display_data"
    }
   ],
   "source": [
    "@interact(mcs=(0, NMC, 1))\n",
    "\n",
    "def animation(mcs=0):\n",
    "    plt.figure(figsize=(6, 6))\n",
    "    plt.xlim([0, 1])\n",
    "    plt.ylim([0, 1])\n",
    "    x = np.arange(0, 1, 0.001)# 円\n",
    "    y = (1 - x ** 2) ** 0.5\n",
    "    y2 = np.ones(x.shape[0])\n",
    "    plt.plot(x, y)\n",
    "    \n",
    "    #　領域を塗りつぶす\n",
    "    plt.fill_between(x, y, alpha=0.3)\n",
    "    plt.fill_between(x, y, y2, alpha=0.3)\n",
    "    \n",
    "    r = (xmc[:mcs]**2 + ymc[:mcs]**2) ** 0.5\n",
    "\n",
    "    accept = np.where(r<=1, 1, 0)\n",
    "    accept_ratio = np.sum(accept) / mcs\n",
    "    \n",
    "    plt.scatter(xmc[:mcs], ymc[:mcs], color=\"black\")\n",
    "    plt.show()\n",
    "    \n",
    "    print(\"Monte Carlo: \", accept_ratio)\n",
    "    print(\"Analytical Solution: \", np.pi/4.0)"
   ]
  },
  {
   "cell_type": "code",
   "execution_count": 11,
   "metadata": {
    "ExecuteTime": {
     "end_time": "2019-01-09T10:21:13.612220Z",
     "start_time": "2019-01-09T10:21:13.562327Z"
    }
   },
   "outputs": [],
   "source": [
    "pi_mcs = []\n",
    "NMC = 2000\n",
    "xmc = np.random.rand(NMC)\n",
    "ymc = np.random.rand(NMC)\n",
    "\n",
    "for mcs in range(1, NMC):\n",
    "    r = (xmc[:mcs]**2 + ymc[:mcs]**2) ** 0.5\n",
    "    accept = np.where(r<=1, 1, 0)\n",
    "    accept_ratio = np.sum(accept) / mcs\n",
    "    pi_mcs.append(accept_ratio)"
   ]
  },
  {
   "cell_type": "code",
   "execution_count": 12,
   "metadata": {
    "ExecuteTime": {
     "end_time": "2019-01-09T10:21:13.617972Z",
     "start_time": "2019-01-09T10:21:13.614504Z"
    }
   },
   "outputs": [],
   "source": [
    "pi_x = np.arange(len(pi_mcs)) + 1"
   ]
  },
  {
   "cell_type": "code",
   "execution_count": 13,
   "metadata": {
    "ExecuteTime": {
     "end_time": "2019-01-09T10:21:13.933818Z",
     "start_time": "2019-01-09T10:21:13.620153Z"
    }
   },
   "outputs": [
    {
     "data": {
      "text/plain": [
       "Text(0,0.5,'sccept ration')"
      ]
     },
     "execution_count": 13,
     "metadata": {},
     "output_type": "execute_result"
    },
    {
     "data": {
      "image/png": "[encoded data removed]",
      "text/plain": [
       "<Figure size 432x288 with 1 Axes>"
      ]
     },
     "metadata": {
      "image/png": {
       "height": 269,
       "width": 393
      }
     },
     "output_type": "display_data"
    }
   ],
   "source": [
    "plt.plot(pi_x, pi_mcs)\n",
    "plt.hlines(0.785, pi_x[0], pi_x[-1], linestyles=\"dashed\")\n",
    "plt.xlabel(\"MCS\")\n",
    "plt.ylabel(\"sccept ration\")"
   ]
  },
  {
   "cell_type": "code",
   "execution_count": null,
   "metadata": {},
   "outputs": [],
   "source": []
  }
 ],
 "metadata": {
  "hide_input": false,
  "kernelspec": {
   "display_name": "Python 3",
   "language": "python",
   "name": "python3"
  },
  "language_info": {
   "codemirror_mode": {
    "name": "ipython",
    "version": 3
   },
   "file_extension": ".py",
   "mimetype": "text/x-python",
   "name": "python",
   "nbconvert_exporter": "python",
   "pygments_lexer": "ipython3",
   "version": "3.6.5"
  },
  "latex_envs": {
   "LaTeX_envs_menu_present": true,
   "autoclose": false,
   "autocomplete": true,
   "bibliofile": "biblio.bib",
   "cite_by": "apalike",
   "current_citInitial": 1,
   "eqLabelWithNumbers": true,
   "eqNumInitial": 1,
   "hotkeys": {
    "equation": "Ctrl-E",
    "itemize": "Ctrl-I"
   },
   "labels_anchors": false,
   "latex_user_defs": false,
   "report_style_numbering": false,
   "user_envs_cfg": false
  },
  "toc": {
   "base_numbering": 1,
   "nav_menu": {},
   "number_sections": true,
   "sideBar": true,
   "skip_h1_title": false,
   "title_cell": "Table of Contents",
   "title_sidebar": "Contents",
   "toc_cell": false,
   "toc_position": {},
   "toc_section_display": true,
   "toc_window_display": false
  }
 },
 "nbformat": 4,
 "nbformat_minor": 2
}

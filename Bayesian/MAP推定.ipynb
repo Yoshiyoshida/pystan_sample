{
 "cells": [
  {
   "cell_type": "markdown",
   "metadata": {},
   "source": [
    "# 問題概要\n",
    "- f(θ|D) ∝ f(D|θ) f(θ)\n",
    "- 仮定　:　f(D|θ) は正規分布に従うとする\n",
    "- f(θ)が決定していない　=> 無情報事前分布\n",
    "- σ = 1とおく\n",
    "\n",
    "# MAP推定とは\n",
    "- MAP推定：事後確率分布の全体を求めるのではなく、事後分布が最大の点だけを求める。\n",
    "- $$θ_{MAP} = argmax_{θ} f(θ|D)$$　\n",
    "\n",
    "# 無情報事前分布とは\n",
    "- f(θ) = Normal(o, 100)のような広い範囲で一定値になるような分布\n",
    "- 無情報事前分布 * 尤度 => 事後分布(=尤度)\n",
    "- 事後分布に影響を与えない\n",
    "- 最尤推定と同じ結果になる\n",
    "\n",
    "# 計算の仕方\n",
    "-　$$θ_{MAP} = argmax_{θ} f(θ|D)$$\n",
    "- $$=argmax_{θ} log_{10} f(θ|D)$$\n",
    "- $$=argmax_{θ} -log_{10} f(θ|D)$$\n",
    "- $$=argmin_{θ}(NLL)$$\n",
    "- NLLを最小化する"
   ]
  },
  {
   "cell_type": "markdown",
   "metadata": {},
   "source": [
    "# 必要なライブラリのimport "
   ]
  },
  {
   "cell_type": "code",
   "execution_count": 2,
   "metadata": {
    "ExecuteTime": {
     "end_time": "2019-01-08T08:35:19.575391Z",
     "start_time": "2019-01-08T08:35:18.812287Z"
    }
   },
   "outputs": [],
   "source": [
    "import numpy as np\n",
    "import pandas as pd\n",
    "import matplotlib.pyplot as plt\n",
    "import japanize_matplotlib \n",
    "from scipy import optimize\n",
    "from scipy import stats\n",
    "plt.style.use(\"ggplot\")\n",
    "%matplotlib inline\n",
    "%config InlineBackend.figure_format = 'retina'\n",
    "plt.rcParams['axes.labelsize'] = 14\n",
    "plt.rcParams['xtick.labelsize'] = 12\n",
    "plt.rcParams['ytick.labelsize'] = 12\n",
    "\n",
    "import warnings\n",
    "warnings.filterwarnings('ignore') # warningが出ないように設定\n",
    "pd.set_option(\"display.max_rows\", None) # pandasの表示上限をなくす\n",
    "pd.set_option(\"display.max_columns\", None) # pandasの表示上限をなくす"
   ]
  },
  {
   "cell_type": "markdown",
   "metadata": {},
   "source": [
    "# データの準備"
   ]
  },
  {
   "cell_type": "code",
   "execution_count": null,
   "metadata": {},
   "outputs": [],
   "source": []
  }
 ],
 "metadata": {
  "hide_input": false,
  "kernelspec": {
   "display_name": "Python 3",
   "language": "python",
   "name": "python3"
  },
  "language_info": {
   "codemirror_mode": {
    "name": "ipython",
    "version": 3
   },
   "file_extension": ".py",
   "mimetype": "text/x-python",
   "name": "python",
   "nbconvert_exporter": "python",
   "pygments_lexer": "ipython3",
   "version": "3.6.5"
  },
  "latex_envs": {
   "LaTeX_envs_menu_present": true,
   "autoclose": false,
   "autocomplete": true,
   "bibliofile": "biblio.bib",
   "cite_by": "apalike",
   "current_citInitial": 1,
   "eqLabelWithNumbers": true,
   "eqNumInitial": 1,
   "hotkeys": {
    "equation": "Ctrl-E",
    "itemize": "Ctrl-I"
   },
   "labels_anchors": false,
   "latex_user_defs": false,
   "report_style_numbering": false,
   "user_envs_cfg": false
  },
  "toc": {
   "base_numbering": 1,
   "nav_menu": {},
   "number_sections": true,
   "sideBar": true,
   "skip_h1_title": false,
   "title_cell": "Table of Contents",
   "title_sidebar": "Contents",
   "toc_cell": false,
   "toc_position": {},
   "toc_section_display": true,
   "toc_window_display": false
  }
 },
 "nbformat": 4,
 "nbformat_minor": 2
}

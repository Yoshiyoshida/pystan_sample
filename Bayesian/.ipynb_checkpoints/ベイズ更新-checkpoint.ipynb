{
 "cells": [
  {
   "cell_type": "markdown",
   "metadata": {
    "ExecuteTime": {
     "end_time": "2019-01-08T02:12:48.306924Z",
     "start_time": "2019-01-08T02:12:48.282156Z"
    }
   },
   "source": [
    "# 概要\n",
    "- ベイズ更新を実装する\n",
    "## 設定\n",
    "- 袋の中に赤/青の２種類の球が入っているとする。引いた球の色から引いた袋を推定する問題をpythonで実装する。"
   ]
  },
  {
   "cell_type": "markdown",
   "metadata": {},
   "source": [
    "# 必要なライブラリのimport"
   ]
  },
  {
   "cell_type": "code",
   "execution_count": 3,
   "metadata": {
    "ExecuteTime": {
     "end_time": "2019-01-08T02:15:23.203297Z",
     "start_time": "2019-01-08T02:15:23.129400Z"
    }
   },
   "outputs": [],
   "source": [
    "import numpy as np\n",
    "import pandas as pd\n",
    "import matplotlib.pyplot as plt\n",
    "from scipy.stats import bernoulli\n",
    "plt.style.use(\"ggplot\")\n",
    "%matplotlib inline\n",
    "%config InlineBackend.figure_format = 'retina'\n",
    "plt.rcParams['axes.labelsize'] = 14\n",
    "plt.rcParams['xtick.labelsize'] = 12\n",
    "plt.rcParams['ytick.labelsize'] = 12\n",
    "\n",
    "import warnings\n",
    "warnings.filterwarnings('ignore') # warningが出ないように設定\n",
    "pd.set_option(\"display.max_rows\", None) # pandasの表示上限をなくす\n",
    "pd.set_option(\"display.max_columns\", None) # pandasの表示上限をなくす"
   ]
  },
  {
   "cell_type": "markdown",
   "metadata": {},
   "source": [
    "# 事前分布"
   ]
  },
  {
   "cell_type": "code",
   "execution_count": 4,
   "metadata": {
    "ExecuteTime": {
     "end_time": "2019-01-08T02:19:49.903183Z",
     "start_time": "2019-01-08T02:19:49.897940Z"
    }
   },
   "outputs": [],
   "source": [
    "# aの袋を引く確率\n",
    "p_a = 3.0/ 10.0\n",
    "# bの袋を引く確率\n",
    "p_b = 5.0/9.0\n",
    "\n",
    "p_prior = 0.5\n",
    "\n",
    "# 0:blue, 1:red\n",
    "# ひいた球のデータ\n",
    "data = [0, 1, 0, 0, 1, 1, 1]"
   ]
  },
  {
   "cell_type": "code",
   "execution_count": 8,
   "metadata": {
    "ExecuteTime": {
     "end_time": "2019-01-08T02:23:12.966215Z",
     "start_time": "2019-01-08T02:23:12.952855Z"
    }
   },
   "outputs": [],
   "source": [
    "# どこでのデータを使用するか\n",
    "N_data = 1\n",
    "\n",
    "# 尤度関数\n",
    "## P(data | a)\n",
    "likehood_a = bernoulli.pmf(data[:N_data], p_a)\n",
    "\n",
    "## P(data | b)\n",
    "likehood_b = bernoulli.pmf(data[:N_data], p_b)"
   ]
  },
  {
   "cell_type": "code",
   "execution_count": 9,
   "metadata": {
    "ExecuteTime": {
     "end_time": "2019-01-08T02:23:31.645486Z",
     "start_time": "2019-01-08T02:23:31.634371Z"
    }
   },
   "outputs": [
    {
     "data": {
      "text/plain": [
       "array([0.7])"
      ]
     },
     "execution_count": 9,
     "metadata": {},
     "output_type": "execute_result"
    }
   ],
   "source": [
    "likehood_a"
   ]
  },
  {
   "cell_type": "code",
   "execution_count": 10,
   "metadata": {
    "ExecuteTime": {
     "end_time": "2019-01-08T02:23:34.809295Z",
     "start_time": "2019-01-08T02:23:34.804303Z"
    }
   },
   "outputs": [
    {
     "data": {
      "text/plain": [
       "array([0.44444444])"
      ]
     },
     "execution_count": 10,
     "metadata": {},
     "output_type": "execute_result"
    }
   ],
   "source": [
    "likehood_b"
   ]
  },
  {
   "cell_type": "markdown",
   "metadata": {},
   "source": [
    "# 事後分布"
   ]
  },
  {
   "cell_type": "code",
   "execution_count": 11,
   "metadata": {
    "ExecuteTime": {
     "end_time": "2019-01-08T02:26:59.091442Z",
     "start_time": "2019-01-08T02:26:59.087521Z"
    }
   },
   "outputs": [],
   "source": [
    "pa_posterior = p_prior\n",
    "pb_posterior = p_prior\n",
    "\n",
    "pa_posterior *= np.prod(likehood_a)\n",
    "pb_posterior *= np.prod(likehood_b)"
   ]
  },
  {
   "cell_type": "code",
   "execution_count": null,
   "metadata": {},
   "outputs": [],
   "source": []
  }
 ],
 "metadata": {
  "hide_input": false,
  "kernelspec": {
   "display_name": "Python 3",
   "language": "python",
   "name": "python3"
  },
  "language_info": {
   "codemirror_mode": {
    "name": "ipython",
    "version": 3
   },
   "file_extension": ".py",
   "mimetype": "text/x-python",
   "name": "python",
   "nbconvert_exporter": "python",
   "pygments_lexer": "ipython3",
   "version": "3.6.5"
  },
  "latex_envs": {
   "LaTeX_envs_menu_present": true,
   "autoclose": false,
   "autocomplete": true,
   "bibliofile": "biblio.bib",
   "cite_by": "apalike",
   "current_citInitial": 1,
   "eqLabelWithNumbers": true,
   "eqNumInitial": 1,
   "hotkeys": {
    "equation": "Ctrl-E",
    "itemize": "Ctrl-I"
   },
   "labels_anchors": false,
   "latex_user_defs": false,
   "report_style_numbering": false,
   "user_envs_cfg": false
  },
  "toc": {
   "base_numbering": 1,
   "nav_menu": {},
   "number_sections": true,
   "sideBar": true,
   "skip_h1_title": false,
   "title_cell": "Table of Contents",
   "title_sidebar": "Contents",
   "toc_cell": false,
   "toc_position": {},
   "toc_section_display": true,
   "toc_window_display": false
  }
 },
 "nbformat": 4,
 "nbformat_minor": 2
}
